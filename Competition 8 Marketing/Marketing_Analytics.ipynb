{
 "cells": [
  {
   "cell_type": "markdown",
   "metadata": {
    "colab_type": "text",
    "id": "NElh2f0okHGm"
   },
   "source": [
    "# Problem Statement"
   ]
  },
  {
   "cell_type": "markdown",
   "metadata": {
    "colab_type": "text",
    "id": "lGtNjeZbkNue"
   },
   "source": [
    "Given the recent history of a user's interactions with previous email campaigns, can you predict the success of the next one? This is a common business problem, but one that it is usually hard to find real, publicly accessible datasets for."
   ]
  },
  {
   "cell_type": "markdown",
   "metadata": {
    "colab_type": "text",
    "id": "mJvibm3zkFFP"
   },
   "source": [
    "## Background"
   ]
  },
  {
   "cell_type": "markdown",
   "metadata": {
    "colab_type": "text",
    "id": "aIbzGlZ4kPuz"
   },
   "source": [
    "The aim of this project is to build a model that can predict whether a user opens the emails sent by Shopee.\n",
    "\n",
    "Sending emails is one of the marketing channels Shopee uses to reach out to our users. Being able to predict whether a user opens an email allows Shopee to forecast and evaluate the performance of future marketing campaigns before launch. This is because when a user opens an email, the probability of the user knowing the campaign increases and this in turn increases the probability of the user making a checkout during the campaign period. Therefore, with the predicted open rates, Shopee can better develop, strategize and implement future marketing campaigns."
   ]
  },
  {
   "cell_type": "markdown",
   "metadata": {
    "colab_type": "text",
    "id": "Su87YjOlkMY8"
   },
   "source": [
    "## Task"
   ]
  },
  {
   "cell_type": "markdown",
   "metadata": {
    "colab_type": "text",
    "id": "-Q0Nv1ppkSaZ"
   },
   "source": [
    "We provide you with data related to marketing emails (Electronic Direct Mail) that were sent to Shopee users over a certain period. It contains information about\n",
    "\n",
    "User-specific information Email nature Users’ engagement on the platform User’s reaction to the email, including whether users opened the email Based on the data provided, you must predict whether each user will open an email sent to him/her."
   ]
  },
  {
   "cell_type": "markdown",
   "metadata": {
    "colab_type": "text",
    "id": "qlijMAEKkkDU"
   },
   "source": [
    "### Files"
   ]
  },
  {
   "cell_type": "markdown",
   "metadata": {
    "colab_type": "text",
    "id": "8fli9368klHI"
   },
   "source": [
    "[train/test].csv\n",
    "\n",
    "country_code: An integer code for the country where the user lives.\n",
    "\n",
    "grass_date: The date when the email was sent.\n",
    "\n",
    "user_id: the unique identifier of each user\n",
    "\n",
    "subject_line_length: the number of characters in the subject of the email\n",
    "\n",
    "last_open_day: How many days ago was the last time the user opened an email\n",
    "\n",
    "last_login_day: How many days ago the user last logged in its Shopee account\n",
    "\n",
    "last_checkout_day: How many days ago the user last purchased on Shopee\n",
    "\n",
    "open_count_last_[10/30/60]_days: the total number of email opens in the last N days.\n",
    "\n",
    "login_count_last_[10/30/60]_days: the total number of user logins in the last N days.\n",
    "\n",
    "checkout_count_last_[10/30/60]_days: the total number of checkouts (=purchases) by the user in the last N days.\n",
    "\n",
    "open_flag: the target variable. Whether or not the email was opened.\n",
    "\n",
    "row_id:\n",
    "\n",
    "users.csv [empty values are simply unknown]\n",
    "\n",
    "user_id: the unique identifier of each user\n",
    "\n",
    "attr_[1/2/3]: general user attributes. Attr_1 and attr_2 are boolean, attrib_3 can be integer [0,1,2,3,4].\n",
    "\n",
    "age: The user's reported age.\n",
    "\n",
    "domain: The user's top-level email domain. Less common domains are bundled together under the label 'other'."
   ]
  },
  {
   "cell_type": "code",
   "execution_count": null,
   "metadata": {
    "colab": {
     "base_uri": "https://localhost:8080/",
     "height": 122
    },
    "colab_type": "code",
    "id": "J4IJHUu9kLw9",
    "outputId": "58547cc2-ef37-4a2e-c28a-b86e80bed8ce"
   },
   "outputs": [
    {
     "name": "stdout",
     "output_type": "stream",
     "text": [
      "Go to this URL in a browser: https://accounts.google.com/o/oauth2/auth?client_id=947318989803-6bn6qk8qdgf4n4g3pfee6491hc0brc4i.apps.googleusercontent.com&redirect_uri=urn%3aietf%3awg%3aoauth%3a2.0%3aoob&response_type=code&scope=email%20https%3a%2f%2fwww.googleapis.com%2fauth%2fdocs.test%20https%3a%2f%2fwww.googleapis.com%2fauth%2fdrive%20https%3a%2f%2fwww.googleapis.com%2fauth%2fdrive.photos.readonly%20https%3a%2f%2fwww.googleapis.com%2fauth%2fpeopleapi.readonly\n",
      "\n",
      "Enter your authorization code:\n",
      "··········\n",
      "Mounted at /content/gdrive\n"
     ]
    }
   ],
   "source": [
    "from google.colab import drive\n",
    "drive.mount('/content/gdrive')"
   ]
  },
  {
   "cell_type": "markdown",
   "metadata": {
    "colab_type": "text",
    "id": "qWr6VP-MlpqV"
   },
   "source": [
    "Import Libraries"
   ]
  },
  {
   "cell_type": "code",
   "execution_count": null,
   "metadata": {
    "colab": {},
    "colab_type": "code",
    "id": "6caEAUh5liQO"
   },
   "outputs": [],
   "source": [
    "import numpy as np\n",
    "import pandas as pd\n",
    "import seaborn as sns\n",
    "import matplotlib.pyplot as plt\n",
    "import datetime as dt\n",
    "\n",
    "from sklearn.model_selection import train_test_split, cross_val_score, GridSearchCV\n",
    "from imblearn.over_sampling import SMOTE\n",
    "from imblearn.pipeline import Pipeline, make_pipeline\n",
    "from sklearn.ensemble import GradientBoostingClassifier, AdaBoostClassifier, BaggingClassifier, RandomForestClassifier\n",
    "from sklearn.linear_model import LogisticRegression, SGDClassifier\n",
    "from xgboost import XGBClassifier\n",
    "from sklearn.metrics import roc_curve, roc_auc_score, auc, classification_report, accuracy_score, confusion_matrix\n",
    "from sklearn.preprocessing import StandardScaler, PolynomialFeatures\n",
    "from sklearn.metrics import SCORERS\n",
    "\n",
    "from sklearn.metrics import matthews_corrcoef\n",
    "%matplotlib inline"
   ]
  },
  {
   "cell_type": "code",
   "execution_count": null,
   "metadata": {
    "colab": {},
    "colab_type": "code",
    "id": "A6MVokVMlsZ-"
   },
   "outputs": [],
   "source": [
    "train = pd.read_csv('/content/gdrive/My Drive/Marketing Analytics/train.csv', parse_dates=['grass_date'])\n",
    "test = pd.read_csv('/content/gdrive/My Drive/Marketing Analytics/test.csv', parse_dates=['grass_date'])\n",
    "users = pd.read_csv('/content/gdrive/My Drive/Marketing Analytics/users.csv')"
   ]
  },
  {
   "cell_type": "code",
   "execution_count": null,
   "metadata": {
    "colab": {
     "base_uri": "https://localhost:8080/",
     "height": 309
    },
    "colab_type": "code",
    "id": "MY7RxyS3mYZE",
    "outputId": "8d907a33-9d00-41cc-8e74-010be8c72b04"
   },
   "outputs": [
    {
     "data": {
      "text/html": [
       "<div>\n",
       "<style scoped>\n",
       "    .dataframe tbody tr th:only-of-type {\n",
       "        vertical-align: middle;\n",
       "    }\n",
       "\n",
       "    .dataframe tbody tr th {\n",
       "        vertical-align: top;\n",
       "    }\n",
       "\n",
       "    .dataframe thead th {\n",
       "        text-align: right;\n",
       "    }\n",
       "</style>\n",
       "<table border=\"1\" class=\"dataframe\">\n",
       "  <thead>\n",
       "    <tr style=\"text-align: right;\">\n",
       "      <th></th>\n",
       "      <th>country_code</th>\n",
       "      <th>grass_date</th>\n",
       "      <th>user_id</th>\n",
       "      <th>subject_line_length</th>\n",
       "      <th>last_open_day</th>\n",
       "      <th>last_login_day</th>\n",
       "      <th>last_checkout_day</th>\n",
       "      <th>open_count_last_10_days</th>\n",
       "      <th>open_count_last_30_days</th>\n",
       "      <th>open_count_last_60_days</th>\n",
       "      <th>login_count_last_10_days</th>\n",
       "      <th>login_count_last_30_days</th>\n",
       "      <th>login_count_last_60_days</th>\n",
       "      <th>checkout_count_last_10_days</th>\n",
       "      <th>checkout_count_last_30_days</th>\n",
       "      <th>checkout_count_last_60_days</th>\n",
       "      <th>open_flag</th>\n",
       "      <th>row_id</th>\n",
       "    </tr>\n",
       "  </thead>\n",
       "  <tbody>\n",
       "    <tr>\n",
       "      <th>0</th>\n",
       "      <td>4</td>\n",
       "      <td>2019-07-16 00:00:00+08:00</td>\n",
       "      <td>43</td>\n",
       "      <td>44</td>\n",
       "      <td>19</td>\n",
       "      <td>6</td>\n",
       "      <td>18</td>\n",
       "      <td>0</td>\n",
       "      <td>2</td>\n",
       "      <td>4</td>\n",
       "      <td>12</td>\n",
       "      <td>43</td>\n",
       "      <td>99</td>\n",
       "      <td>0</td>\n",
       "      <td>5</td>\n",
       "      <td>10</td>\n",
       "      <td>0</td>\n",
       "      <td>0</td>\n",
       "    </tr>\n",
       "    <tr>\n",
       "      <th>1</th>\n",
       "      <td>4</td>\n",
       "      <td>2019-07-16 00:00:00+08:00</td>\n",
       "      <td>102</td>\n",
       "      <td>44</td>\n",
       "      <td>9</td>\n",
       "      <td>4</td>\n",
       "      <td>8</td>\n",
       "      <td>2</td>\n",
       "      <td>9</td>\n",
       "      <td>17</td>\n",
       "      <td>18</td>\n",
       "      <td>48</td>\n",
       "      <td>90</td>\n",
       "      <td>1</td>\n",
       "      <td>1</td>\n",
       "      <td>4</td>\n",
       "      <td>1</td>\n",
       "      <td>1</td>\n",
       "    </tr>\n",
       "    <tr>\n",
       "      <th>2</th>\n",
       "      <td>6</td>\n",
       "      <td>2019-07-16 00:00:00+08:00</td>\n",
       "      <td>177</td>\n",
       "      <td>49</td>\n",
       "      <td>14</td>\n",
       "      <td>5</td>\n",
       "      <td>5</td>\n",
       "      <td>0</td>\n",
       "      <td>4</td>\n",
       "      <td>12</td>\n",
       "      <td>24</td>\n",
       "      <td>69</td>\n",
       "      <td>119</td>\n",
       "      <td>5</td>\n",
       "      <td>19</td>\n",
       "      <td>27</td>\n",
       "      <td>0</td>\n",
       "      <td>2</td>\n",
       "    </tr>\n",
       "    <tr>\n",
       "      <th>3</th>\n",
       "      <td>1</td>\n",
       "      <td>2019-07-16 00:00:00+08:00</td>\n",
       "      <td>184</td>\n",
       "      <td>49</td>\n",
       "      <td>49</td>\n",
       "      <td>9</td>\n",
       "      <td>53</td>\n",
       "      <td>0</td>\n",
       "      <td>0</td>\n",
       "      <td>1</td>\n",
       "      <td>9</td>\n",
       "      <td>23</td>\n",
       "      <td>69</td>\n",
       "      <td>1</td>\n",
       "      <td>3</td>\n",
       "      <td>6</td>\n",
       "      <td>0</td>\n",
       "      <td>3</td>\n",
       "    </tr>\n",
       "    <tr>\n",
       "      <th>4</th>\n",
       "      <td>6</td>\n",
       "      <td>2019-07-16 00:00:00+08:00</td>\n",
       "      <td>221</td>\n",
       "      <td>49</td>\n",
       "      <td>227</td>\n",
       "      <td>6</td>\n",
       "      <td>221</td>\n",
       "      <td>0</td>\n",
       "      <td>0</td>\n",
       "      <td>0</td>\n",
       "      <td>2</td>\n",
       "      <td>5</td>\n",
       "      <td>5</td>\n",
       "      <td>0</td>\n",
       "      <td>0</td>\n",
       "      <td>0</td>\n",
       "      <td>0</td>\n",
       "      <td>4</td>\n",
       "    </tr>\n",
       "  </tbody>\n",
       "</table>\n",
       "</div>"
      ],
      "text/plain": [
       "   country_code                grass_date  ...  open_flag  row_id\n",
       "0             4 2019-07-16 00:00:00+08:00  ...          0       0\n",
       "1             4 2019-07-16 00:00:00+08:00  ...          1       1\n",
       "2             6 2019-07-16 00:00:00+08:00  ...          0       2\n",
       "3             1 2019-07-16 00:00:00+08:00  ...          0       3\n",
       "4             6 2019-07-16 00:00:00+08:00  ...          0       4\n",
       "\n",
       "[5 rows x 18 columns]"
      ]
     },
     "execution_count": 203,
     "metadata": {
      "tags": []
     },
     "output_type": "execute_result"
    }
   ],
   "source": [
    "train.head()"
   ]
  },
  {
   "cell_type": "code",
   "execution_count": null,
   "metadata": {
    "colab": {
     "base_uri": "https://localhost:8080/",
     "height": 204
    },
    "colab_type": "code",
    "id": "oKGxyDY7mmBf",
    "outputId": "892e2717-fec2-433b-f131-60f5ed2c314c"
   },
   "outputs": [
    {
     "data": {
      "text/html": [
       "<div>\n",
       "<style scoped>\n",
       "    .dataframe tbody tr th:only-of-type {\n",
       "        vertical-align: middle;\n",
       "    }\n",
       "\n",
       "    .dataframe tbody tr th {\n",
       "        vertical-align: top;\n",
       "    }\n",
       "\n",
       "    .dataframe thead th {\n",
       "        text-align: right;\n",
       "    }\n",
       "</style>\n",
       "<table border=\"1\" class=\"dataframe\">\n",
       "  <thead>\n",
       "    <tr style=\"text-align: right;\">\n",
       "      <th></th>\n",
       "      <th>user_id</th>\n",
       "      <th>attr_1</th>\n",
       "      <th>attr_2</th>\n",
       "      <th>attr_3</th>\n",
       "      <th>age</th>\n",
       "      <th>domain</th>\n",
       "    </tr>\n",
       "  </thead>\n",
       "  <tbody>\n",
       "    <tr>\n",
       "      <th>0</th>\n",
       "      <td>0</td>\n",
       "      <td>NaN</td>\n",
       "      <td>1.0</td>\n",
       "      <td>0.0</td>\n",
       "      <td>NaN</td>\n",
       "      <td>@gmail.com</td>\n",
       "    </tr>\n",
       "    <tr>\n",
       "      <th>1</th>\n",
       "      <td>1</td>\n",
       "      <td>1.0</td>\n",
       "      <td>1.0</td>\n",
       "      <td>2.0</td>\n",
       "      <td>50.0</td>\n",
       "      <td>@gmail.com</td>\n",
       "    </tr>\n",
       "    <tr>\n",
       "      <th>2</th>\n",
       "      <td>2</td>\n",
       "      <td>NaN</td>\n",
       "      <td>1.0</td>\n",
       "      <td>0.0</td>\n",
       "      <td>NaN</td>\n",
       "      <td>other</td>\n",
       "    </tr>\n",
       "    <tr>\n",
       "      <th>3</th>\n",
       "      <td>3</td>\n",
       "      <td>NaN</td>\n",
       "      <td>1.0</td>\n",
       "      <td>0.0</td>\n",
       "      <td>NaN</td>\n",
       "      <td>@gmail.com</td>\n",
       "    </tr>\n",
       "    <tr>\n",
       "      <th>4</th>\n",
       "      <td>4</td>\n",
       "      <td>1.0</td>\n",
       "      <td>1.0</td>\n",
       "      <td>2.0</td>\n",
       "      <td>33.0</td>\n",
       "      <td>@gmail.com</td>\n",
       "    </tr>\n",
       "  </tbody>\n",
       "</table>\n",
       "</div>"
      ],
      "text/plain": [
       "   user_id  attr_1  attr_2  attr_3   age      domain\n",
       "0        0     NaN     1.0     0.0   NaN  @gmail.com\n",
       "1        1     1.0     1.0     2.0  50.0  @gmail.com\n",
       "2        2     NaN     1.0     0.0   NaN       other\n",
       "3        3     NaN     1.0     0.0   NaN  @gmail.com\n",
       "4        4     1.0     1.0     2.0  33.0  @gmail.com"
      ]
     },
     "execution_count": 204,
     "metadata": {
      "tags": []
     },
     "output_type": "execute_result"
    }
   ],
   "source": [
    "users.head()"
   ]
  },
  {
   "cell_type": "markdown",
   "metadata": {
    "colab_type": "text",
    "id": "5fmB0yF9mqYA"
   },
   "source": [
    "Data Cleaning"
   ]
  },
  {
   "cell_type": "code",
   "execution_count": null,
   "metadata": {
    "colab": {},
    "colab_type": "code",
    "id": "DOLgMERamov-"
   },
   "outputs": [],
   "source": [
    "# Merge train and users on user_id\n",
    "train_df = train.merge(users, on='user_id')\n",
    "\n",
    "# Merge test and users on user_id\n",
    "test_df = test.merge(users, on='user_id')"
   ]
  },
  {
   "cell_type": "code",
   "execution_count": null,
   "metadata": {
    "colab": {
     "base_uri": "https://localhost:8080/",
     "height": 547
    },
    "colab_type": "code",
    "id": "ZebE284snGq8",
    "outputId": "01650161-4c09-4c04-8aa7-c9369f9934e0"
   },
   "outputs": [
    {
     "name": "stdout",
     "output_type": "stream",
     "text": [
      "<class 'pandas.core.frame.DataFrame'>\n",
      "Int64Index: 73539 entries, 0 to 73538\n",
      "Data columns (total 23 columns):\n",
      " #   Column                       Non-Null Count  Dtype                                \n",
      "---  ------                       --------------  -----                                \n",
      " 0   country_code                 73539 non-null  int64                                \n",
      " 1   grass_date                   73539 non-null  datetime64[ns, pytz.FixedOffset(480)]\n",
      " 2   user_id                      73539 non-null  int64                                \n",
      " 3   subject_line_length          73539 non-null  int64                                \n",
      " 4   last_open_day                73539 non-null  object                               \n",
      " 5   last_login_day               73539 non-null  object                               \n",
      " 6   last_checkout_day            73539 non-null  object                               \n",
      " 7   open_count_last_10_days      73539 non-null  int64                                \n",
      " 8   open_count_last_30_days      73539 non-null  int64                                \n",
      " 9   open_count_last_60_days      73539 non-null  int64                                \n",
      " 10  login_count_last_10_days     73539 non-null  int64                                \n",
      " 11  login_count_last_30_days     73539 non-null  int64                                \n",
      " 12  login_count_last_60_days     73539 non-null  int64                                \n",
      " 13  checkout_count_last_10_days  73539 non-null  int64                                \n",
      " 14  checkout_count_last_30_days  73539 non-null  int64                                \n",
      " 15  checkout_count_last_60_days  73539 non-null  int64                                \n",
      " 16  open_flag                    73539 non-null  int64                                \n",
      " 17  row_id                       73539 non-null  int64                                \n",
      " 18  attr_1                       45347 non-null  float64                              \n",
      " 19  attr_2                       73260 non-null  float64                              \n",
      " 20  attr_3                       73539 non-null  float64                              \n",
      " 21  age                          45347 non-null  float64                              \n",
      " 22  domain                       73539 non-null  object                               \n",
      "dtypes: datetime64[ns, pytz.FixedOffset(480)](1), float64(4), int64(14), object(4)\n",
      "memory usage: 13.5+ MB\n"
     ]
    }
   ],
   "source": [
    "# last_open_day, last_login_day and last_checkout_day are currently object types but should be integers\n",
    "# Some null values for attr_1 and attr_2\n",
    "train_df.info()"
   ]
  },
  {
   "cell_type": "code",
   "execution_count": null,
   "metadata": {
    "colab": {
     "base_uri": "https://localhost:8080/",
     "height": 425
    },
    "colab_type": "code",
    "id": "0IsK8rMSatjw",
    "outputId": "5ab4d23a-1e0f-46bf-8b2d-706778e14ad0"
   },
   "outputs": [
    {
     "data": {
      "text/plain": [
       "country_code                       0\n",
       "grass_date                         0\n",
       "user_id                            0\n",
       "subject_line_length                0\n",
       "last_open_day                      0\n",
       "last_login_day                     0\n",
       "last_checkout_day                  0\n",
       "open_count_last_10_days            0\n",
       "open_count_last_30_days            0\n",
       "open_count_last_60_days            0\n",
       "login_count_last_10_days           0\n",
       "login_count_last_30_days           0\n",
       "login_count_last_60_days           0\n",
       "checkout_count_last_10_days        0\n",
       "checkout_count_last_30_days        0\n",
       "checkout_count_last_60_days        0\n",
       "open_flag                          0\n",
       "row_id                             0\n",
       "attr_1                         28192\n",
       "attr_2                           279\n",
       "attr_3                             0\n",
       "age                            28192\n",
       "domain                             0\n",
       "dtype: int64"
      ]
     },
     "execution_count": 207,
     "metadata": {
      "tags": []
     },
     "output_type": "execute_result"
    }
   ],
   "source": [
    "# checking for missing values\n",
    "train_df.isnull().sum()"
   ]
  },
  {
   "cell_type": "code",
   "execution_count": null,
   "metadata": {
    "colab": {
     "base_uri": "https://localhost:8080/",
     "height": 408
    },
    "colab_type": "code",
    "id": "C3_tKhf4kF8j",
    "outputId": "cee0298d-be6f-46bf-d0e8-992fd142fe4f"
   },
   "outputs": [
    {
     "data": {
      "text/plain": [
       "country_code                       0\n",
       "grass_date                         0\n",
       "user_id                            0\n",
       "subject_line_length                0\n",
       "last_open_day                      0\n",
       "last_login_day                     0\n",
       "last_checkout_day                  0\n",
       "open_count_last_10_days            0\n",
       "open_count_last_30_days            0\n",
       "open_count_last_60_days            0\n",
       "login_count_last_10_days           0\n",
       "login_count_last_30_days           0\n",
       "login_count_last_60_days           0\n",
       "checkout_count_last_10_days        0\n",
       "checkout_count_last_30_days        0\n",
       "checkout_count_last_60_days        0\n",
       "row_id                             0\n",
       "attr_1                         21233\n",
       "attr_2                           168\n",
       "attr_3                             0\n",
       "age                            21233\n",
       "domain                             0\n",
       "dtype: int64"
      ]
     },
     "execution_count": 208,
     "metadata": {
      "tags": []
     },
     "output_type": "execute_result"
    }
   ],
   "source": [
    "test_df.isnull().sum()"
   ]
  },
  {
   "cell_type": "code",
   "execution_count": null,
   "metadata": {
    "colab": {
     "base_uri": "https://localhost:8080/",
     "height": 68
    },
    "colab_type": "code",
    "id": "uoNaZ2Gin-Sq",
    "outputId": "f9f52157-914f-427c-cf2d-d5605242fca7"
   },
   "outputs": [
    {
     "data": {
      "text/plain": [
       "0    0.844219\n",
       "1    0.155781\n",
       "Name: open_flag, dtype: float64"
      ]
     },
     "execution_count": 209,
     "metadata": {
      "tags": []
     },
     "output_type": "execute_result"
    }
   ],
   "source": [
    "train['open_flag'].value_counts(normalize=True)"
   ]
  },
  {
   "cell_type": "markdown",
   "metadata": {
    "colab_type": "text",
    "id": "RCblRxnQrXsv"
   },
   "source": [
    "# Feature engineering - Cyclical data"
   ]
  },
  {
   "cell_type": "code",
   "execution_count": null,
   "metadata": {
    "colab": {},
    "colab_type": "code",
    "id": "jt5Zcah-rdKm"
   },
   "outputs": [],
   "source": [
    "# #extracitng the year, month and day from the grass_date\n",
    "# # time has found to be consisitent (+08:00) across all rows \n",
    "# train_df['year'] = train_df['grass_date'].map(lambda x: x.year)\n",
    "# train_df['month'] = train_df['grass_date'].map(lambda x: x.month)\n",
    "# train_df['day'] = train_df['grass_date'].map(lambda x: x.day)"
   ]
  },
  {
   "cell_type": "code",
   "execution_count": null,
   "metadata": {
    "colab": {},
    "colab_type": "code",
    "id": "Nd1QI5mmuL1m"
   },
   "outputs": [],
   "source": [
    "# #cyclical features for month\n",
    "# train_df['month_sin'] = np.sin(train_df['month']*(2.*np.pi/12))\n",
    "# train_df['month_cos'] = np.cos(train_df['month']*(2.*np.pi/12))\n",
    "\n",
    "# #cyclical features for day\n",
    "# #assumption that every month has 31 days\n",
    "# train_df['day_sin'] = np.sin(train_df['day']*(2.*np.pi/31))\n",
    "# train_df['day_cos'] = np.cos(train_df['day']*(2.*np.pi/31))\n",
    "\n",
    "# #dropping grass_date, month, day\n",
    "# # train_df.drop(['grass_date', 'month', 'day'],axis=1, inplace=True)"
   ]
  },
  {
   "cell_type": "markdown",
   "metadata": {
    "colab_type": "text",
    "id": "iOfxS8kkgG8t"
   },
   "source": [
    "# Imputing missing data"
   ]
  },
  {
   "cell_type": "markdown",
   "metadata": {
    "colab_type": "text",
    "id": "DvdYee8oteck"
   },
   "source": [
    "### Last open day/ last check in/ last log out"
   ]
  },
  {
   "cell_type": "code",
   "execution_count": null,
   "metadata": {
    "colab": {
     "base_uri": "https://localhost:8080/",
     "height": 309
    },
    "colab_type": "code",
    "id": "eO-kgzEhnX4m",
    "outputId": "f7c885f6-6dc3-4f5e-a975-fb0e6d11aeec"
   },
   "outputs": [
    {
     "data": {
      "text/html": [
       "<div>\n",
       "<style scoped>\n",
       "    .dataframe tbody tr th:only-of-type {\n",
       "        vertical-align: middle;\n",
       "    }\n",
       "\n",
       "    .dataframe tbody tr th {\n",
       "        vertical-align: top;\n",
       "    }\n",
       "\n",
       "    .dataframe thead th {\n",
       "        text-align: right;\n",
       "    }\n",
       "</style>\n",
       "<table border=\"1\" class=\"dataframe\">\n",
       "  <thead>\n",
       "    <tr style=\"text-align: right;\">\n",
       "      <th></th>\n",
       "      <th>country_code</th>\n",
       "      <th>grass_date</th>\n",
       "      <th>user_id</th>\n",
       "      <th>subject_line_length</th>\n",
       "      <th>last_open_day</th>\n",
       "      <th>last_login_day</th>\n",
       "      <th>last_checkout_day</th>\n",
       "      <th>open_count_last_10_days</th>\n",
       "      <th>open_count_last_30_days</th>\n",
       "      <th>open_count_last_60_days</th>\n",
       "      <th>login_count_last_10_days</th>\n",
       "      <th>login_count_last_30_days</th>\n",
       "      <th>login_count_last_60_days</th>\n",
       "      <th>checkout_count_last_10_days</th>\n",
       "      <th>checkout_count_last_30_days</th>\n",
       "      <th>checkout_count_last_60_days</th>\n",
       "      <th>open_flag</th>\n",
       "      <th>row_id</th>\n",
       "      <th>attr_1</th>\n",
       "      <th>attr_2</th>\n",
       "      <th>attr_3</th>\n",
       "      <th>age</th>\n",
       "      <th>domain</th>\n",
       "    </tr>\n",
       "  </thead>\n",
       "  <tbody>\n",
       "    <tr>\n",
       "      <th>14</th>\n",
       "      <td>2</td>\n",
       "      <td>2019-07-16 00:00:00+08:00</td>\n",
       "      <td>635</td>\n",
       "      <td>36</td>\n",
       "      <td>Never open</td>\n",
       "      <td>44</td>\n",
       "      <td>57</td>\n",
       "      <td>0</td>\n",
       "      <td>0</td>\n",
       "      <td>0</td>\n",
       "      <td>0</td>\n",
       "      <td>0</td>\n",
       "      <td>6</td>\n",
       "      <td>0</td>\n",
       "      <td>0</td>\n",
       "      <td>1</td>\n",
       "      <td>0</td>\n",
       "      <td>14</td>\n",
       "      <td>NaN</td>\n",
       "      <td>1.0</td>\n",
       "      <td>0.0</td>\n",
       "      <td>NaN</td>\n",
       "      <td>@hotmail.com</td>\n",
       "    </tr>\n",
       "    <tr>\n",
       "      <th>23</th>\n",
       "      <td>2</td>\n",
       "      <td>2019-07-16 00:00:00+08:00</td>\n",
       "      <td>1162</td>\n",
       "      <td>43</td>\n",
       "      <td>Never open</td>\n",
       "      <td>382</td>\n",
       "      <td>16</td>\n",
       "      <td>0</td>\n",
       "      <td>0</td>\n",
       "      <td>0</td>\n",
       "      <td>0</td>\n",
       "      <td>0</td>\n",
       "      <td>0</td>\n",
       "      <td>0</td>\n",
       "      <td>0</td>\n",
       "      <td>0</td>\n",
       "      <td>0</td>\n",
       "      <td>23</td>\n",
       "      <td>1.0</td>\n",
       "      <td>1.0</td>\n",
       "      <td>2.0</td>\n",
       "      <td>39.0</td>\n",
       "      <td>@hotmail.com</td>\n",
       "    </tr>\n",
       "    <tr>\n",
       "      <th>24</th>\n",
       "      <td>2</td>\n",
       "      <td>2019-07-16 00:00:00+08:00</td>\n",
       "      <td>1165</td>\n",
       "      <td>36</td>\n",
       "      <td>Never open</td>\n",
       "      <td>135</td>\n",
       "      <td>468</td>\n",
       "      <td>0</td>\n",
       "      <td>0</td>\n",
       "      <td>0</td>\n",
       "      <td>0</td>\n",
       "      <td>0</td>\n",
       "      <td>0</td>\n",
       "      <td>0</td>\n",
       "      <td>0</td>\n",
       "      <td>0</td>\n",
       "      <td>0</td>\n",
       "      <td>24</td>\n",
       "      <td>1.0</td>\n",
       "      <td>1.0</td>\n",
       "      <td>2.0</td>\n",
       "      <td>26.0</td>\n",
       "      <td>@gmail.com</td>\n",
       "    </tr>\n",
       "    <tr>\n",
       "      <th>72</th>\n",
       "      <td>2</td>\n",
       "      <td>2019-07-16 00:00:00+08:00</td>\n",
       "      <td>3566</td>\n",
       "      <td>43</td>\n",
       "      <td>Never open</td>\n",
       "      <td>327</td>\n",
       "      <td>499</td>\n",
       "      <td>0</td>\n",
       "      <td>0</td>\n",
       "      <td>0</td>\n",
       "      <td>0</td>\n",
       "      <td>0</td>\n",
       "      <td>0</td>\n",
       "      <td>0</td>\n",
       "      <td>0</td>\n",
       "      <td>0</td>\n",
       "      <td>0</td>\n",
       "      <td>71</td>\n",
       "      <td>1.0</td>\n",
       "      <td>1.0</td>\n",
       "      <td>2.0</td>\n",
       "      <td>28.0</td>\n",
       "      <td>@gmail.com</td>\n",
       "    </tr>\n",
       "    <tr>\n",
       "      <th>91</th>\n",
       "      <td>2</td>\n",
       "      <td>2019-07-16 00:00:00+08:00</td>\n",
       "      <td>4648</td>\n",
       "      <td>46</td>\n",
       "      <td>Never open</td>\n",
       "      <td>1</td>\n",
       "      <td>76</td>\n",
       "      <td>0</td>\n",
       "      <td>0</td>\n",
       "      <td>0</td>\n",
       "      <td>2</td>\n",
       "      <td>2</td>\n",
       "      <td>5</td>\n",
       "      <td>0</td>\n",
       "      <td>0</td>\n",
       "      <td>0</td>\n",
       "      <td>0</td>\n",
       "      <td>89</td>\n",
       "      <td>1.0</td>\n",
       "      <td>1.0</td>\n",
       "      <td>2.0</td>\n",
       "      <td>36.0</td>\n",
       "      <td>@gmail.com</td>\n",
       "    </tr>\n",
       "  </tbody>\n",
       "</table>\n",
       "</div>"
      ],
      "text/plain": [
       "    country_code                grass_date  user_id  ...  attr_3   age        domain\n",
       "14             2 2019-07-16 00:00:00+08:00      635  ...     0.0   NaN  @hotmail.com\n",
       "23             2 2019-07-16 00:00:00+08:00     1162  ...     2.0  39.0  @hotmail.com\n",
       "24             2 2019-07-16 00:00:00+08:00     1165  ...     2.0  26.0    @gmail.com\n",
       "72             2 2019-07-16 00:00:00+08:00     3566  ...     2.0  28.0    @gmail.com\n",
       "91             2 2019-07-16 00:00:00+08:00     4648  ...     2.0  36.0    @gmail.com\n",
       "\n",
       "[5 rows x 23 columns]"
      ]
     },
     "execution_count": 212,
     "metadata": {
      "tags": []
     },
     "output_type": "execute_result"
    }
   ],
   "source": [
    "# Listed as an object type as there are some words in last_open_day\n",
    "train_df[train_df['last_open_day']=='Never open'].head()"
   ]
  },
  {
   "cell_type": "code",
   "execution_count": null,
   "metadata": {
    "colab": {},
    "colab_type": "code",
    "id": "YNm_AeOjniyH"
   },
   "outputs": [],
   "source": [
    "# Replace \"Never open\" with a very high number, like 1000\n",
    "train_df['last_open_day'] = train_df['last_open_day'].map(lambda x: 1000 if x=='Never open' else x).astype(int)\n",
    "\n",
    "# Replace \"Never login\" with a very high number, like 20,000\n",
    "train_df['last_login_day'] = train_df['last_login_day'].map(lambda x: 20000 if x=='Never login' else x).astype(int)\n",
    "\n",
    "# Replace \"Never login\" with a very high number, like 20000\n",
    "train_df['last_checkout_day'] = train_df['last_checkout_day'].map(lambda x: 20000 if x=='Never checkout' else x).astype(int)"
   ]
  },
  {
   "cell_type": "code",
   "execution_count": null,
   "metadata": {
    "colab": {
     "base_uri": "https://localhost:8080/",
     "height": 301
    },
    "colab_type": "code",
    "id": "20WGTeqIomVv",
    "outputId": "245fd194-c7ca-48eb-9035-b70417a949ac"
   },
   "outputs": [
    {
     "data": {
      "image/png": "[encoded data removed]",
      "text/plain": [
       "<Figure size 432x288 with 1 Axes>"
      ]
     },
     "metadata": {
      "needs_background": "light",
      "tags": []
     },
     "output_type": "display_data"
    }
   ],
   "source": [
    "train_df['last_open_day'].value_counts().sort_index().plot()\n",
    "plt.title('Distribution of last_open_day')\n",
    "plt.ylabel('No. of days ago when the user last opened an email')\n",
    "plt.xlabel('Count');"
   ]
  },
  {
   "cell_type": "code",
   "execution_count": null,
   "metadata": {
    "colab": {
     "base_uri": "https://localhost:8080/",
     "height": 309
    },
    "colab_type": "code",
    "id": "LK-NXB7corJO",
    "outputId": "c96518f5-d36e-4d64-fea7-8c3810fb215f"
   },
   "outputs": [
    {
     "data": {
      "image/png": "[encoded data removed]",
      "text/plain": [
       "<Figure size 432x288 with 1 Axes>"
      ]
     },
     "metadata": {
      "needs_background": "light",
      "tags": []
     },
     "output_type": "display_data"
    }
   ],
   "source": [
    "train_df['last_login_day'].value_counts().sort_index().plot()\n",
    "plt.title('Distribution of last_login_day')\n",
    "plt.ylabel('No. of days ago when the user last logged in to Shopee')\n",
    "plt.xlabel('Count');"
   ]
  },
  {
   "cell_type": "code",
   "execution_count": null,
   "metadata": {
    "colab": {
     "base_uri": "https://localhost:8080/",
     "height": 316
    },
    "colab_type": "code",
    "id": "try18Ao7qNyo",
    "outputId": "4f7ee758-f465-4bb4-effc-9e34653915b1"
   },
   "outputs": [
    {
     "data": {
      "image/png": "[encoded data removed]",
      "text/plain": [
       "<Figure size 432x288 with 1 Axes>"
      ]
     },
     "metadata": {
      "needs_background": "light",
      "tags": []
     },
     "output_type": "display_data"
    }
   ],
   "source": [
    "train_df['last_checkout_day'].value_counts().sort_index().plot()\n",
    "plt.title('Distribution of last_checkout_day')\n",
    "plt.ylabel('No. of days ago when the user last purchased on Shopee')\n",
    "plt.xlabel('Count');"
   ]
  },
  {
   "cell_type": "markdown",
   "metadata": {
    "colab_type": "text",
    "id": "VCgpmcPCtxTb"
   },
   "source": [
    "### attr_1 and attr_2"
   ]
  },
  {
   "cell_type": "code",
   "execution_count": null,
   "metadata": {
    "colab": {
     "base_uri": "https://localhost:8080/",
     "height": 450
    },
    "colab_type": "code",
    "id": "GSQFwpwVt8bF",
    "outputId": "bf721e22-0d08-4a8b-cf8f-a5f15469d0eb"
   },
   "outputs": [
    {
     "name": "stdout",
     "output_type": "stream",
     "text": [
      "count    45347.000000\n",
      "mean         0.999757\n",
      "std          0.015573\n",
      "min          0.000000\n",
      "25%          1.000000\n",
      "50%          1.000000\n",
      "75%          1.000000\n",
      "max          1.000000\n",
      "Name: attr_1, dtype: float64\n"
     ]
    },
    {
     "data": {
      "text/plain": [
       "<matplotlib.axes._subplots.AxesSubplot at 0x7ffa91e83160>"
      ]
     },
     "execution_count": 217,
     "metadata": {
      "tags": []
     },
     "output_type": "execute_result"
    },
    {
     "data": {
      "image/png": "[encoded data removed]",
      "text/plain": [
       "<Figure size 432x288 with 1 Axes>"
      ]
     },
     "metadata": {
      "needs_background": "light",
      "tags": []
     },
     "output_type": "display_data"
    }
   ],
   "source": [
    "#distribution of attr_1\n",
    "\n",
    "print(train_df['attr_1'].describe())\n",
    "sns.distplot(train_df['attr_1'])"
   ]
  },
  {
   "cell_type": "code",
   "execution_count": null,
   "metadata": {
    "colab": {
     "base_uri": "https://localhost:8080/",
     "height": 450
    },
    "colab_type": "code",
    "id": "oViWhuRi12c9",
    "outputId": "f3098b32-1e38-412a-cdbd-b22da02b7339"
   },
   "outputs": [
    {
     "name": "stdout",
     "output_type": "stream",
     "text": [
      "count    73260.000000\n",
      "mean         0.997256\n",
      "std          0.052308\n",
      "min          0.000000\n",
      "25%          1.000000\n",
      "50%          1.000000\n",
      "75%          1.000000\n",
      "max          1.000000\n",
      "Name: attr_2, dtype: float64\n"
     ]
    },
    {
     "data": {
      "text/plain": [
       "<matplotlib.axes._subplots.AxesSubplot at 0x7ffa91e7f0f0>"
      ]
     },
     "execution_count": 218,
     "metadata": {
      "tags": []
     },
     "output_type": "execute_result"
    },
    {
     "data": {
      "image/png": "[encoded data removed]",
      "text/plain": [
       "<Figure size 432x288 with 1 Axes>"
      ]
     },
     "metadata": {
      "needs_background": "light",
      "tags": []
     },
     "output_type": "display_data"
    }
   ],
   "source": [
    "#distribution of attr_2\n",
    "\n",
    "print(train_df['attr_2'].describe())\n",
    "sns.distplot(train_df['attr_2'])"
   ]
  },
  {
   "cell_type": "code",
   "execution_count": null,
   "metadata": {
    "colab": {},
    "colab_type": "code",
    "id": "hJVyYXZ9qbYh"
   },
   "outputs": [],
   "source": [
    "# Fill NA with 1\n",
    "\n",
    "train_df['attr_1'].fillna(1, inplace=True)\n",
    "train_df['attr_2'].fillna(1, inplace=True)"
   ]
  },
  {
   "cell_type": "code",
   "execution_count": null,
   "metadata": {
    "colab": {
     "base_uri": "https://localhost:8080/",
     "height": 1000
    },
    "colab_type": "code",
    "id": "nEbLI4yhrPu7",
    "outputId": "3953e28e-37f0-4b75-cae2-d148242038a6"
   },
   "outputs": [
    {
     "data": {
      "text/plain": [
       "[-17.0,\n",
       " -16.0,\n",
       " 0.0,\n",
       " 1.0,\n",
       " 2.0,\n",
       " 3.0,\n",
       " 4.0,\n",
       " 5.0,\n",
       " 6.0,\n",
       " 7.0,\n",
       " 8.0,\n",
       " 9.0,\n",
       " 10.0,\n",
       " 11.0,\n",
       " 12.0,\n",
       " 13.0,\n",
       " 14.0,\n",
       " 15.0,\n",
       " 16.0,\n",
       " 17.0,\n",
       " 18.0,\n",
       " 19.0,\n",
       " 20.0,\n",
       " 21.0,\n",
       " 22.0,\n",
       " 23.0,\n",
       " 24.0,\n",
       " 25.0,\n",
       " 26.0,\n",
       " 27.0,\n",
       " 28.0,\n",
       " 29.0,\n",
       " 30.0,\n",
       " 31.0,\n",
       " 32.0,\n",
       " 33.0,\n",
       " 34.0,\n",
       " 35.0,\n",
       " 36.0,\n",
       " 37.0,\n",
       " 38.0,\n",
       " 39.0,\n",
       " 40.0,\n",
       " 47.0,\n",
       " nan,\n",
       " 41.0,\n",
       " 42.0,\n",
       " 43.0,\n",
       " 44.0,\n",
       " 45.0,\n",
       " 46.0,\n",
       " 48.0,\n",
       " 49.0,\n",
       " 50.0,\n",
       " 51.0,\n",
       " 52.0,\n",
       " 53.0,\n",
       " 54.0,\n",
       " 55.0,\n",
       " 56.0,\n",
       " 57.0,\n",
       " 58.0,\n",
       " 59.0,\n",
       " 60.0,\n",
       " 61.0,\n",
       " 62.0,\n",
       " 63.0,\n",
       " 64.0,\n",
       " 65.0,\n",
       " 66.0,\n",
       " 67.0,\n",
       " 68.0,\n",
       " 69.0,\n",
       " 70.0,\n",
       " 71.0,\n",
       " 72.0,\n",
       " 73.0,\n",
       " 74.0,\n",
       " 75.0,\n",
       " 76.0,\n",
       " 80.0,\n",
       " 81.0,\n",
       " 92.0,\n",
       " 93.0,\n",
       " 95.0,\n",
       " 97.0,\n",
       " 98.0,\n",
       " 99.0,\n",
       " 100.0,\n",
       " 101.0,\n",
       " 104.0,\n",
       " 105.0,\n",
       " 107.0,\n",
       " 108.0,\n",
       " 109.0,\n",
       " 110.0,\n",
       " 112.0,\n",
       " 114.0,\n",
       " 115.0,\n",
       " 118.0]"
      ]
     },
     "execution_count": 220,
     "metadata": {
      "tags": []
     },
     "output_type": "execute_result"
    }
   ],
   "source": [
    "# Need to fill NA and treat ages that are too young or too old\n",
    "sorted(train_df['age'].unique())"
   ]
  },
  {
   "cell_type": "code",
   "execution_count": null,
   "metadata": {
    "colab": {
     "base_uri": "https://localhost:8080/",
     "height": 1000
    },
    "colab_type": "code",
    "id": "O1-axvtpd67f",
    "outputId": "4d2a1a44-d954-4234-8ea4-6f93bf3d78b1"
   },
   "outputs": [
    {
     "data": {
      "text/plain": [
       "[nan,\n",
       " 0.0,\n",
       " 1.0,\n",
       " 2.0,\n",
       " 3.0,\n",
       " 4.0,\n",
       " 5.0,\n",
       " 6.0,\n",
       " 7.0,\n",
       " 8.0,\n",
       " 9.0,\n",
       " 10.0,\n",
       " 11.0,\n",
       " 12.0,\n",
       " 13.0,\n",
       " 14.0,\n",
       " 15.0,\n",
       " 16.0,\n",
       " 17.0,\n",
       " 18.0,\n",
       " 19.0,\n",
       " 20.0,\n",
       " 21.0,\n",
       " 22.0,\n",
       " 23.0,\n",
       " 24.0,\n",
       " 25.0,\n",
       " 26.0,\n",
       " 27.0,\n",
       " 28.0,\n",
       " 29.0,\n",
       " 30.0,\n",
       " 31.0,\n",
       " 32.0,\n",
       " 33.0,\n",
       " 34.0,\n",
       " 35.0,\n",
       " 36.0,\n",
       " 37.0,\n",
       " 38.0,\n",
       " 39.0,\n",
       " 40.0,\n",
       " 41.0,\n",
       " 42.0,\n",
       " 43.0,\n",
       " 44.0,\n",
       " 45.0,\n",
       " 46.0,\n",
       " 47.0,\n",
       " 48.0,\n",
       " 49.0,\n",
       " 50.0,\n",
       " 51.0,\n",
       " 52.0,\n",
       " 53.0,\n",
       " 54.0,\n",
       " 55.0,\n",
       " 56.0,\n",
       " 57.0,\n",
       " 58.0,\n",
       " 59.0,\n",
       " 60.0,\n",
       " 61.0,\n",
       " 62.0,\n",
       " 63.0,\n",
       " 64.0,\n",
       " 65.0,\n",
       " 66.0,\n",
       " 67.0,\n",
       " 68.0,\n",
       " 69.0,\n",
       " 70.0,\n",
       " 71.0,\n",
       " 72.0,\n",
       " 73.0,\n",
       " 74.0,\n",
       " 75.0,\n",
       " 76.0,\n",
       " 77.0,\n",
       " 80.0,\n",
       " 87.0,\n",
       " 91.0,\n",
       " 92.0,\n",
       " 93.0,\n",
       " 95.0,\n",
       " 98.0,\n",
       " 100.0,\n",
       " 103.0,\n",
       " 105.0,\n",
       " 106.0,\n",
       " 107.0,\n",
       " 109.0,\n",
       " 110.0,\n",
       " 112.0,\n",
       " 114.0,\n",
       " 115.0,\n",
       " 116.0,\n",
       " 117.0,\n",
       " 118.0]"
      ]
     },
     "execution_count": 221,
     "metadata": {
      "tags": []
     },
     "output_type": "execute_result"
    }
   ],
   "source": [
    "sorted(test_df['age'].unique())"
   ]
  },
  {
   "cell_type": "code",
   "execution_count": null,
   "metadata": {
    "colab": {
     "base_uri": "https://localhost:8080/",
     "height": 265
    },
    "colab_type": "code",
    "id": "ECP5VAxErZJW",
    "outputId": "575090a8-5e29-4adc-8dc3-cd553b5a03b5"
   },
   "outputs": [
    {
     "data": {
      "image/png": "[encoded data removed]",
      "text/plain": [
       "<Figure size 432x288 with 1 Axes>"
      ]
     },
     "metadata": {
      "needs_background": "light",
      "tags": []
     },
     "output_type": "display_data"
    }
   ],
   "source": [
    "# Age distribution\n",
    "train_df['age'].value_counts().sort_index().plot();"
   ]
  },
  {
   "cell_type": "code",
   "execution_count": null,
   "metadata": {
    "colab": {
     "base_uri": "https://localhost:8080/",
     "height": 265
    },
    "colab_type": "code",
    "id": "WKQrapW3eH2o",
    "outputId": "0c25ff3a-2434-4579-f868-151039d7317c"
   },
   "outputs": [
    {
     "data": {
      "image/png": "[encoded data removed]",
      "text/plain": [
       "<Figure size 432x288 with 1 Axes>"
      ]
     },
     "metadata": {
      "needs_background": "light",
      "tags": []
     },
     "output_type": "display_data"
    }
   ],
   "source": [
    "# Age distribution\n",
    "test_df['age'].value_counts().sort_index().plot();"
   ]
  },
  {
   "cell_type": "code",
   "execution_count": null,
   "metadata": {
    "colab": {
     "base_uri": "https://localhost:8080/",
     "height": 34
    },
    "colab_type": "code",
    "id": "eUY3qb7-tTJJ",
    "outputId": "ae34a300-29de-4bb8-ac14-327619450998"
   },
   "outputs": [
    {
     "data": {
      "text/plain": [
       "29.0"
      ]
     },
     "execution_count": 224,
     "metadata": {
      "tags": []
     },
     "output_type": "execute_result"
    }
   ],
   "source": [
    "train_df['age'].median()"
   ]
  },
  {
   "cell_type": "code",
   "execution_count": null,
   "metadata": {
    "colab": {
     "base_uri": "https://localhost:8080/",
     "height": 609
    },
    "colab_type": "code",
    "id": "OqWzpRTldc5j",
    "outputId": "5eba7d95-4fbb-499f-ecc6-e96aabf4dcd1"
   },
   "outputs": [
    {
     "data": {
      "text/html": [
       "<div>\n",
       "<style scoped>\n",
       "    .dataframe tbody tr th:only-of-type {\n",
       "        vertical-align: middle;\n",
       "    }\n",
       "\n",
       "    .dataframe tbody tr th {\n",
       "        vertical-align: top;\n",
       "    }\n",
       "\n",
       "    .dataframe thead th {\n",
       "        text-align: right;\n",
       "    }\n",
       "</style>\n",
       "<table border=\"1\" class=\"dataframe\">\n",
       "  <thead>\n",
       "    <tr style=\"text-align: right;\">\n",
       "      <th></th>\n",
       "      <th>country_code</th>\n",
       "      <th>grass_date</th>\n",
       "      <th>user_id</th>\n",
       "      <th>subject_line_length</th>\n",
       "      <th>last_open_day</th>\n",
       "      <th>last_login_day</th>\n",
       "      <th>last_checkout_day</th>\n",
       "      <th>open_count_last_10_days</th>\n",
       "      <th>open_count_last_30_days</th>\n",
       "      <th>open_count_last_60_days</th>\n",
       "      <th>login_count_last_10_days</th>\n",
       "      <th>login_count_last_30_days</th>\n",
       "      <th>login_count_last_60_days</th>\n",
       "      <th>checkout_count_last_10_days</th>\n",
       "      <th>checkout_count_last_30_days</th>\n",
       "      <th>checkout_count_last_60_days</th>\n",
       "      <th>open_flag</th>\n",
       "      <th>row_id</th>\n",
       "      <th>attr_1</th>\n",
       "      <th>attr_2</th>\n",
       "      <th>attr_3</th>\n",
       "      <th>age</th>\n",
       "      <th>domain</th>\n",
       "    </tr>\n",
       "  </thead>\n",
       "  <tbody>\n",
       "    <tr>\n",
       "      <th>2</th>\n",
       "      <td>6</td>\n",
       "      <td>2019-07-16 00:00:00+08:00</td>\n",
       "      <td>177</td>\n",
       "      <td>49</td>\n",
       "      <td>14</td>\n",
       "      <td>5</td>\n",
       "      <td>5</td>\n",
       "      <td>0</td>\n",
       "      <td>4</td>\n",
       "      <td>12</td>\n",
       "      <td>24</td>\n",
       "      <td>69</td>\n",
       "      <td>119</td>\n",
       "      <td>5</td>\n",
       "      <td>19</td>\n",
       "      <td>27</td>\n",
       "      <td>0</td>\n",
       "      <td>2</td>\n",
       "      <td>1.0</td>\n",
       "      <td>1.0</td>\n",
       "      <td>0.0</td>\n",
       "      <td>NaN</td>\n",
       "      <td>@yahoo.com</td>\n",
       "    </tr>\n",
       "    <tr>\n",
       "      <th>4</th>\n",
       "      <td>6</td>\n",
       "      <td>2019-07-16 00:00:00+08:00</td>\n",
       "      <td>221</td>\n",
       "      <td>49</td>\n",
       "      <td>227</td>\n",
       "      <td>6</td>\n",
       "      <td>221</td>\n",
       "      <td>0</td>\n",
       "      <td>0</td>\n",
       "      <td>0</td>\n",
       "      <td>2</td>\n",
       "      <td>5</td>\n",
       "      <td>5</td>\n",
       "      <td>0</td>\n",
       "      <td>0</td>\n",
       "      <td>0</td>\n",
       "      <td>0</td>\n",
       "      <td>4</td>\n",
       "      <td>1.0</td>\n",
       "      <td>1.0</td>\n",
       "      <td>0.0</td>\n",
       "      <td>NaN</td>\n",
       "      <td>@hotmail.com</td>\n",
       "    </tr>\n",
       "    <tr>\n",
       "      <th>8</th>\n",
       "      <td>1</td>\n",
       "      <td>2019-07-16 00:00:00+08:00</td>\n",
       "      <td>350</td>\n",
       "      <td>49</td>\n",
       "      <td>7</td>\n",
       "      <td>5</td>\n",
       "      <td>26</td>\n",
       "      <td>2</td>\n",
       "      <td>4</td>\n",
       "      <td>7</td>\n",
       "      <td>1</td>\n",
       "      <td>8</td>\n",
       "      <td>10</td>\n",
       "      <td>0</td>\n",
       "      <td>1</td>\n",
       "      <td>1</td>\n",
       "      <td>1</td>\n",
       "      <td>8</td>\n",
       "      <td>1.0</td>\n",
       "      <td>1.0</td>\n",
       "      <td>0.0</td>\n",
       "      <td>NaN</td>\n",
       "      <td>@yahoo.com</td>\n",
       "    </tr>\n",
       "    <tr>\n",
       "      <th>14</th>\n",
       "      <td>2</td>\n",
       "      <td>2019-07-16 00:00:00+08:00</td>\n",
       "      <td>635</td>\n",
       "      <td>36</td>\n",
       "      <td>1000</td>\n",
       "      <td>44</td>\n",
       "      <td>57</td>\n",
       "      <td>0</td>\n",
       "      <td>0</td>\n",
       "      <td>0</td>\n",
       "      <td>0</td>\n",
       "      <td>0</td>\n",
       "      <td>6</td>\n",
       "      <td>0</td>\n",
       "      <td>0</td>\n",
       "      <td>1</td>\n",
       "      <td>0</td>\n",
       "      <td>14</td>\n",
       "      <td>1.0</td>\n",
       "      <td>1.0</td>\n",
       "      <td>0.0</td>\n",
       "      <td>NaN</td>\n",
       "      <td>@hotmail.com</td>\n",
       "    </tr>\n",
       "    <tr>\n",
       "      <th>26</th>\n",
       "      <td>1</td>\n",
       "      <td>2019-07-16 00:00:00+08:00</td>\n",
       "      <td>1217</td>\n",
       "      <td>64</td>\n",
       "      <td>70</td>\n",
       "      <td>1396</td>\n",
       "      <td>20000</td>\n",
       "      <td>0</td>\n",
       "      <td>0</td>\n",
       "      <td>0</td>\n",
       "      <td>0</td>\n",
       "      <td>0</td>\n",
       "      <td>0</td>\n",
       "      <td>0</td>\n",
       "      <td>0</td>\n",
       "      <td>0</td>\n",
       "      <td>0</td>\n",
       "      <td>26</td>\n",
       "      <td>1.0</td>\n",
       "      <td>1.0</td>\n",
       "      <td>0.0</td>\n",
       "      <td>NaN</td>\n",
       "      <td>@gmail.com</td>\n",
       "    </tr>\n",
       "    <tr>\n",
       "      <th>...</th>\n",
       "      <td>...</td>\n",
       "      <td>...</td>\n",
       "      <td>...</td>\n",
       "      <td>...</td>\n",
       "      <td>...</td>\n",
       "      <td>...</td>\n",
       "      <td>...</td>\n",
       "      <td>...</td>\n",
       "      <td>...</td>\n",
       "      <td>...</td>\n",
       "      <td>...</td>\n",
       "      <td>...</td>\n",
       "      <td>...</td>\n",
       "      <td>...</td>\n",
       "      <td>...</td>\n",
       "      <td>...</td>\n",
       "      <td>...</td>\n",
       "      <td>...</td>\n",
       "      <td>...</td>\n",
       "      <td>...</td>\n",
       "      <td>...</td>\n",
       "      <td>...</td>\n",
       "      <td>...</td>\n",
       "    </tr>\n",
       "    <tr>\n",
       "      <th>73532</th>\n",
       "      <td>1</td>\n",
       "      <td>2019-09-02 00:00:00+08:00</td>\n",
       "      <td>127595</td>\n",
       "      <td>33</td>\n",
       "      <td>8</td>\n",
       "      <td>18</td>\n",
       "      <td>20000</td>\n",
       "      <td>1</td>\n",
       "      <td>3</td>\n",
       "      <td>3</td>\n",
       "      <td>0</td>\n",
       "      <td>0</td>\n",
       "      <td>0</td>\n",
       "      <td>0</td>\n",
       "      <td>0</td>\n",
       "      <td>0</td>\n",
       "      <td>0</td>\n",
       "      <td>73532</td>\n",
       "      <td>1.0</td>\n",
       "      <td>1.0</td>\n",
       "      <td>0.0</td>\n",
       "      <td>NaN</td>\n",
       "      <td>@gmail.com</td>\n",
       "    </tr>\n",
       "    <tr>\n",
       "      <th>73533</th>\n",
       "      <td>3</td>\n",
       "      <td>2019-09-02 00:00:00+08:00</td>\n",
       "      <td>127610</td>\n",
       "      <td>49</td>\n",
       "      <td>24</td>\n",
       "      <td>1083</td>\n",
       "      <td>1087</td>\n",
       "      <td>0</td>\n",
       "      <td>3</td>\n",
       "      <td>4</td>\n",
       "      <td>0</td>\n",
       "      <td>0</td>\n",
       "      <td>0</td>\n",
       "      <td>0</td>\n",
       "      <td>0</td>\n",
       "      <td>0</td>\n",
       "      <td>1</td>\n",
       "      <td>73533</td>\n",
       "      <td>1.0</td>\n",
       "      <td>1.0</td>\n",
       "      <td>0.0</td>\n",
       "      <td>NaN</td>\n",
       "      <td>@gmail.com</td>\n",
       "    </tr>\n",
       "    <tr>\n",
       "      <th>73534</th>\n",
       "      <td>6</td>\n",
       "      <td>2019-09-02 00:00:00+08:00</td>\n",
       "      <td>127613</td>\n",
       "      <td>39</td>\n",
       "      <td>24</td>\n",
       "      <td>36</td>\n",
       "      <td>279</td>\n",
       "      <td>0</td>\n",
       "      <td>1</td>\n",
       "      <td>1</td>\n",
       "      <td>0</td>\n",
       "      <td>0</td>\n",
       "      <td>0</td>\n",
       "      <td>0</td>\n",
       "      <td>0</td>\n",
       "      <td>0</td>\n",
       "      <td>0</td>\n",
       "      <td>73534</td>\n",
       "      <td>1.0</td>\n",
       "      <td>1.0</td>\n",
       "      <td>0.0</td>\n",
       "      <td>NaN</td>\n",
       "      <td>@hotmail.com</td>\n",
       "    </tr>\n",
       "    <tr>\n",
       "      <th>73536</th>\n",
       "      <td>2</td>\n",
       "      <td>2019-09-02 00:00:00+08:00</td>\n",
       "      <td>127696</td>\n",
       "      <td>32</td>\n",
       "      <td>1000</td>\n",
       "      <td>20000</td>\n",
       "      <td>20000</td>\n",
       "      <td>0</td>\n",
       "      <td>0</td>\n",
       "      <td>0</td>\n",
       "      <td>0</td>\n",
       "      <td>0</td>\n",
       "      <td>0</td>\n",
       "      <td>0</td>\n",
       "      <td>0</td>\n",
       "      <td>0</td>\n",
       "      <td>0</td>\n",
       "      <td>73536</td>\n",
       "      <td>1.0</td>\n",
       "      <td>1.0</td>\n",
       "      <td>0.0</td>\n",
       "      <td>NaN</td>\n",
       "      <td>@gmail.com</td>\n",
       "    </tr>\n",
       "    <tr>\n",
       "      <th>73538</th>\n",
       "      <td>6</td>\n",
       "      <td>2019-09-02 00:00:00+08:00</td>\n",
       "      <td>127880</td>\n",
       "      <td>39</td>\n",
       "      <td>1</td>\n",
       "      <td>3</td>\n",
       "      <td>20000</td>\n",
       "      <td>2</td>\n",
       "      <td>2</td>\n",
       "      <td>3</td>\n",
       "      <td>0</td>\n",
       "      <td>0</td>\n",
       "      <td>0</td>\n",
       "      <td>0</td>\n",
       "      <td>0</td>\n",
       "      <td>0</td>\n",
       "      <td>0</td>\n",
       "      <td>73538</td>\n",
       "      <td>1.0</td>\n",
       "      <td>1.0</td>\n",
       "      <td>0.0</td>\n",
       "      <td>NaN</td>\n",
       "      <td>@gmail.com</td>\n",
       "    </tr>\n",
       "  </tbody>\n",
       "</table>\n",
       "<p>28192 rows × 23 columns</p>\n",
       "</div>"
      ],
      "text/plain": [
       "       country_code                grass_date  ...  age        domain\n",
       "2                 6 2019-07-16 00:00:00+08:00  ...  NaN    @yahoo.com\n",
       "4                 6 2019-07-16 00:00:00+08:00  ...  NaN  @hotmail.com\n",
       "8                 1 2019-07-16 00:00:00+08:00  ...  NaN    @yahoo.com\n",
       "14                2 2019-07-16 00:00:00+08:00  ...  NaN  @hotmail.com\n",
       "26                1 2019-07-16 00:00:00+08:00  ...  NaN    @gmail.com\n",
       "...             ...                       ...  ...  ...           ...\n",
       "73532             1 2019-09-02 00:00:00+08:00  ...  NaN    @gmail.com\n",
       "73533             3 2019-09-02 00:00:00+08:00  ...  NaN    @gmail.com\n",
       "73534             6 2019-09-02 00:00:00+08:00  ...  NaN  @hotmail.com\n",
       "73536             2 2019-09-02 00:00:00+08:00  ...  NaN    @gmail.com\n",
       "73538             6 2019-09-02 00:00:00+08:00  ...  NaN    @gmail.com\n",
       "\n",
       "[28192 rows x 23 columns]"
      ]
     },
     "execution_count": 225,
     "metadata": {
      "tags": []
     },
     "output_type": "execute_result"
    }
   ],
   "source": [
    "train_df[train_df['age'].isnull()]"
   ]
  },
  {
   "cell_type": "code",
   "execution_count": null,
   "metadata": {
    "colab": {},
    "colab_type": "code",
    "id": "5tkws6_Gszbn"
   },
   "outputs": [],
   "source": [
    "# Let's fill NA with median age. \n",
    "train_df['age'].fillna(train_df['age'].median(), inplace=True)"
   ]
  },
  {
   "cell_type": "code",
   "execution_count": null,
   "metadata": {
    "colab": {
     "base_uri": "https://localhost:8080/",
     "height": 165
    },
    "colab_type": "code",
    "id": "ps6fS65-e86O",
    "outputId": "c26a72a9-ad2a-42d4-852f-0eae15fcf053"
   },
   "outputs": [
    {
     "data": {
      "text/html": [
       "<div>\n",
       "<style scoped>\n",
       "    .dataframe tbody tr th:only-of-type {\n",
       "        vertical-align: middle;\n",
       "    }\n",
       "\n",
       "    .dataframe tbody tr th {\n",
       "        vertical-align: top;\n",
       "    }\n",
       "\n",
       "    .dataframe thead th {\n",
       "        text-align: right;\n",
       "    }\n",
       "</style>\n",
       "<table border=\"1\" class=\"dataframe\">\n",
       "  <thead>\n",
       "    <tr style=\"text-align: right;\">\n",
       "      <th></th>\n",
       "      <th>country_code</th>\n",
       "      <th>grass_date</th>\n",
       "      <th>user_id</th>\n",
       "      <th>subject_line_length</th>\n",
       "      <th>last_open_day</th>\n",
       "      <th>last_login_day</th>\n",
       "      <th>last_checkout_day</th>\n",
       "      <th>open_count_last_10_days</th>\n",
       "      <th>open_count_last_30_days</th>\n",
       "      <th>open_count_last_60_days</th>\n",
       "      <th>login_count_last_10_days</th>\n",
       "      <th>login_count_last_30_days</th>\n",
       "      <th>login_count_last_60_days</th>\n",
       "      <th>checkout_count_last_10_days</th>\n",
       "      <th>checkout_count_last_30_days</th>\n",
       "      <th>checkout_count_last_60_days</th>\n",
       "      <th>open_flag</th>\n",
       "      <th>row_id</th>\n",
       "      <th>attr_1</th>\n",
       "      <th>attr_2</th>\n",
       "      <th>attr_3</th>\n",
       "      <th>age</th>\n",
       "      <th>domain</th>\n",
       "    </tr>\n",
       "  </thead>\n",
       "  <tbody>\n",
       "    <tr>\n",
       "      <th>56025</th>\n",
       "      <td>3</td>\n",
       "      <td>2019-08-22 00:00:00+08:00</td>\n",
       "      <td>86151</td>\n",
       "      <td>52</td>\n",
       "      <td>37</td>\n",
       "      <td>128</td>\n",
       "      <td>259</td>\n",
       "      <td>0</td>\n",
       "      <td>0</td>\n",
       "      <td>0</td>\n",
       "      <td>0</td>\n",
       "      <td>0</td>\n",
       "      <td>0</td>\n",
       "      <td>0</td>\n",
       "      <td>0</td>\n",
       "      <td>0</td>\n",
       "      <td>0</td>\n",
       "      <td>55774</td>\n",
       "      <td>1.0</td>\n",
       "      <td>1.0</td>\n",
       "      <td>3.0</td>\n",
       "      <td>-17.0</td>\n",
       "      <td>@gmail.com</td>\n",
       "    </tr>\n",
       "    <tr>\n",
       "      <th>59897</th>\n",
       "      <td>5</td>\n",
       "      <td>2019-08-26 00:00:00+08:00</td>\n",
       "      <td>1973</td>\n",
       "      <td>31</td>\n",
       "      <td>30</td>\n",
       "      <td>2</td>\n",
       "      <td>2</td>\n",
       "      <td>0</td>\n",
       "      <td>0</td>\n",
       "      <td>7</td>\n",
       "      <td>8</td>\n",
       "      <td>25</td>\n",
       "      <td>28</td>\n",
       "      <td>1</td>\n",
       "      <td>4</td>\n",
       "      <td>5</td>\n",
       "      <td>0</td>\n",
       "      <td>59683</td>\n",
       "      <td>1.0</td>\n",
       "      <td>1.0</td>\n",
       "      <td>2.0</td>\n",
       "      <td>-16.0</td>\n",
       "      <td>@gmail.com</td>\n",
       "    </tr>\n",
       "  </tbody>\n",
       "</table>\n",
       "</div>"
      ],
      "text/plain": [
       "       country_code                grass_date  ...   age      domain\n",
       "56025             3 2019-08-22 00:00:00+08:00  ... -17.0  @gmail.com\n",
       "59897             5 2019-08-26 00:00:00+08:00  ... -16.0  @gmail.com\n",
       "\n",
       "[2 rows x 23 columns]"
      ]
     },
     "execution_count": 227,
     "metadata": {
      "tags": []
     },
     "output_type": "execute_result"
    }
   ],
   "source": [
    "#There is also very old in the test data set. So i only clean the negative age to be 0\n",
    "train_df[train_df['age']<0]"
   ]
  },
  {
   "cell_type": "code",
   "execution_count": null,
   "metadata": {
    "colab": {},
    "colab_type": "code",
    "id": "usm6MmdnfIDO"
   },
   "outputs": [],
   "source": [
    "train_df['age'] = train_df['age'].map(lambda x: 0 if x<0 else x)"
   ]
  },
  {
   "cell_type": "code",
   "execution_count": null,
   "metadata": {
    "colab": {
     "base_uri": "https://localhost:8080/",
     "height": 547
    },
    "colab_type": "code",
    "id": "UWmAtE2ntpIw",
    "outputId": "84d6040f-46f1-4e0b-96a0-6de61faea89e"
   },
   "outputs": [
    {
     "name": "stdout",
     "output_type": "stream",
     "text": [
      "<class 'pandas.core.frame.DataFrame'>\n",
      "Int64Index: 73539 entries, 0 to 73538\n",
      "Data columns (total 23 columns):\n",
      " #   Column                       Non-Null Count  Dtype                                \n",
      "---  ------                       --------------  -----                                \n",
      " 0   country_code                 73539 non-null  int64                                \n",
      " 1   grass_date                   73539 non-null  datetime64[ns, pytz.FixedOffset(480)]\n",
      " 2   user_id                      73539 non-null  int64                                \n",
      " 3   subject_line_length          73539 non-null  int64                                \n",
      " 4   last_open_day                73539 non-null  int64                                \n",
      " 5   last_login_day               73539 non-null  int64                                \n",
      " 6   last_checkout_day            73539 non-null  int64                                \n",
      " 7   open_count_last_10_days      73539 non-null  int64                                \n",
      " 8   open_count_last_30_days      73539 non-null  int64                                \n",
      " 9   open_count_last_60_days      73539 non-null  int64                                \n",
      " 10  login_count_last_10_days     73539 non-null  int64                                \n",
      " 11  login_count_last_30_days     73539 non-null  int64                                \n",
      " 12  login_count_last_60_days     73539 non-null  int64                                \n",
      " 13  checkout_count_last_10_days  73539 non-null  int64                                \n",
      " 14  checkout_count_last_30_days  73539 non-null  int64                                \n",
      " 15  checkout_count_last_60_days  73539 non-null  int64                                \n",
      " 16  open_flag                    73539 non-null  int64                                \n",
      " 17  row_id                       73539 non-null  int64                                \n",
      " 18  attr_1                       73539 non-null  float64                              \n",
      " 19  attr_2                       73539 non-null  float64                              \n",
      " 20  attr_3                       73539 non-null  float64                              \n",
      " 21  age                          73539 non-null  float64                              \n",
      " 22  domain                       73539 non-null  object                               \n",
      "dtypes: datetime64[ns, pytz.FixedOffset(480)](1), float64(4), int64(17), object(1)\n",
      "memory usage: 13.5+ MB\n"
     ]
    }
   ],
   "source": [
    "# Check that the data types are now correct and that there are no null values.\n",
    "train_df.info()"
   ]
  },
  {
   "cell_type": "markdown",
   "metadata": {
    "colab_type": "text",
    "id": "SkplePrgt69g"
   },
   "source": [
    "Feature Engineering"
   ]
  },
  {
   "cell_type": "code",
   "execution_count": null,
   "metadata": {
    "colab": {
     "base_uri": "https://localhost:8080/",
     "height": 68
    },
    "colab_type": "code",
    "id": "0lHqKrjSyPdS",
    "outputId": "31ce414b-ed23-46ae-9c36-1f80313db584"
   },
   "outputs": [
    {
     "name": "stdout",
     "output_type": "stream",
     "text": [
      "Change 22 Rows from open_count_last_10_days\n",
      "Change 43 Rows from open_count_last_30_days\n",
      "Change 32 Rows from open_count_last_60_days\n"
     ]
    }
   ],
   "source": [
    "cuurent_cols = [ 'open_count_last_10_days', 'open_count_last_30_days', 'open_count_last_60_days']\n",
    "current_threshold = [12, 30, 56]\n",
    "\n",
    "for col, val in zip(cuurent_cols, current_threshold):\n",
    "    print(\"Change\", (train_df[col] > val).sum(), \"Rows from\", col)\n",
    "    train_df.loc[train_df[col] > val, col] = val"
   ]
  },
  {
   "cell_type": "code",
   "execution_count": null,
   "metadata": {
    "colab": {},
    "colab_type": "code",
    "id": "RSl2tCvgtqoP"
   },
   "outputs": [],
   "source": [
    "# Don't feature engineer month as it is not very reproducible in the test data\n",
    "# train_df['month'] = train_df['grass_date'].dt.month"
   ]
  },
  {
   "cell_type": "code",
   "execution_count": null,
   "metadata": {
    "colab": {},
    "colab_type": "code",
    "id": "0iQkDpNXuEvT"
   },
   "outputs": [],
   "source": [
    "# # Create a day of the week feature, for which the email was sent\n",
    "train_df['day_of_the_week'] = train_df['grass_date'].dt.weekday"
   ]
  },
  {
   "cell_type": "code",
   "execution_count": null,
   "metadata": {
    "colab": {},
    "colab_type": "code",
    "id": "DPI0Ipj0uTsu"
   },
   "outputs": [],
   "source": [
    "# # FYI 0 represents Monday\n",
    "# train_df['day'].unique()"
   ]
  },
  {
   "cell_type": "markdown",
   "metadata": {
    "colab_type": "text",
    "id": "8-upp7Rjumaw"
   },
   "source": [
    "EDA"
   ]
  },
  {
   "cell_type": "code",
   "execution_count": null,
   "metadata": {
    "colab": {
     "base_uri": "https://localhost:8080/",
     "height": 497
    },
    "colab_type": "code",
    "id": "zaKlMJl4uiMq",
    "outputId": "cbf01e47-3e1d-4296-8921-7558aec8d6a5"
   },
   "outputs": [
    {
     "data": {
      "image/png": "[encoded data removed]",
      "text/plain": [
       "<Figure size 1080x720 with 2 Axes>"
      ]
     },
     "metadata": {
      "needs_background": "light",
      "tags": []
     },
     "output_type": "display_data"
    }
   ],
   "source": [
    "plt.figure(figsize=(15,10))\n",
    "sns.heatmap(train_df.corr());"
   ]
  },
  {
   "cell_type": "code",
   "execution_count": null,
   "metadata": {
    "colab": {
     "base_uri": "https://localhost:8080/",
     "height": 408
    },
    "colab_type": "code",
    "id": "rDzaQj-0usg5",
    "outputId": "96a9c55d-9acb-474f-d582-993a4327d4ae"
   },
   "outputs": [
    {
     "data": {
      "text/plain": [
       "open_flag                      1.000000\n",
       "open_count_last_10_days        0.517244\n",
       "open_count_last_30_days        0.510572\n",
       "open_count_last_60_days        0.479796\n",
       "country_code                   0.158945\n",
       "age                            0.080582\n",
       "last_login_day                 0.018489\n",
       "checkout_count_last_10_days    0.015573\n",
       "login_count_last_10_days       0.014023\n",
       "checkout_count_last_30_days    0.013419\n",
       "checkout_count_last_60_days    0.010231\n",
       "login_count_last_30_days       0.010134\n",
       "login_count_last_60_days       0.008633\n",
       "attr_2                         0.001661\n",
       "day_of_the_week               -0.003278\n",
       "user_id                       -0.008082\n",
       "attr_1                        -0.013143\n",
       "attr_3                        -0.014235\n",
       "last_checkout_day             -0.026779\n",
       "row_id                        -0.037443\n",
       "subject_line_length           -0.057357\n",
       "last_open_day                 -0.116285\n",
       "Name: open_flag, dtype: float64"
      ]
     },
     "execution_count": 235,
     "metadata": {
      "tags": []
     },
     "output_type": "execute_result"
    }
   ],
   "source": [
    "# open_count has quite strong correlation with our target variable, open_flag\n",
    "train_df.corr()['open_flag'].sort_values(ascending=False)"
   ]
  },
  {
   "cell_type": "code",
   "execution_count": null,
   "metadata": {
    "colab": {},
    "colab_type": "code",
    "id": "4jzdEWfXvISD"
   },
   "outputs": [],
   "source": [
    "# # Country_code is actually a categorical variable. Since customers in country 4 have a higher probability of opening an email, we should one-hot encode this variable\n",
    "# train_df.groupby('country_code')['open_flag'].mean().plot(kind='bar')\n",
    "# plt.ylabel('Mean probability of opening an email');"
   ]
  },
  {
   "cell_type": "code",
   "execution_count": null,
   "metadata": {
    "colab": {},
    "colab_type": "code",
    "id": "3tfTXurFvkQv"
   },
   "outputs": [],
   "source": [
    "# # The probability of opening emails on Weds is higher than on other days. We can one-hot encode this variable too\n",
    "# train_df.groupby('day')['open_flag'].mean().plot(kind='bar')\n",
    "# plt.ylabel('Mean probability of opening an email');"
   ]
  },
  {
   "cell_type": "code",
   "execution_count": null,
   "metadata": {
    "colab": {
     "base_uri": "https://localhost:8080/",
     "height": 286
    },
    "colab_type": "code",
    "id": "KJpBIVq_iTrW",
    "outputId": "d9c7628c-5113-4157-f41f-8fd64a9fc8e7"
   },
   "outputs": [
    {
     "data": {
      "image/png": "[encoded data removed]",
      "text/plain": [
       "<Figure size 432x288 with 1 Axes>"
      ]
     },
     "metadata": {
      "needs_background": "light",
      "tags": []
     },
     "output_type": "display_data"
    }
   ],
   "source": [
    "train_df.groupby('attr_1')['open_flag'].mean().plot(kind='bar');"
   ]
  },
  {
   "cell_type": "code",
   "execution_count": null,
   "metadata": {
    "colab": {
     "base_uri": "https://localhost:8080/",
     "height": 286
    },
    "colab_type": "code",
    "id": "ut7J4QEaib2i",
    "outputId": "e0d3bdc1-520f-4f4e-a2b7-34a144e1c7db"
   },
   "outputs": [
    {
     "data": {
      "image/png": "[encoded data removed]",
      "text/plain": [
       "<Figure size 432x288 with 1 Axes>"
      ]
     },
     "metadata": {
      "needs_background": "light",
      "tags": []
     },
     "output_type": "display_data"
    }
   ],
   "source": [
    "train_df.groupby('attr_2')['open_flag'].mean().plot(kind='bar');"
   ]
  },
  {
   "cell_type": "code",
   "execution_count": null,
   "metadata": {
    "colab": {
     "base_uri": "https://localhost:8080/",
     "height": 286
    },
    "colab_type": "code",
    "id": "8eRey6_TwHmC",
    "outputId": "49990d89-f3f3-461c-f3c5-496b53907773"
   },
   "outputs": [
    {
     "data": {
      "image/png": "[encoded data removed]",
      "text/plain": [
       "<Figure size 432x288 with 1 Axes>"
      ]
     },
     "metadata": {
      "needs_background": "light",
      "tags": []
     },
     "output_type": "display_data"
    }
   ],
   "source": [
    "train_df.groupby('attr_3')['open_flag'].mean().plot(kind='bar');"
   ]
  },
  {
   "cell_type": "code",
   "execution_count": null,
   "metadata": {
    "colab": {},
    "colab_type": "code",
    "id": "aQ9_pl1JyfWH"
   },
   "outputs": [],
   "source": [
    "# # One-hot encode categorical variables\n",
    "# train_df = pd.get_dummies(train_df, columns=['country_code', 'day', 'domain', 'attr_3'])\n",
    "train_df = pd.get_dummies(train_df, 'domain')"
   ]
  },
  {
   "cell_type": "code",
   "execution_count": null,
   "metadata": {
    "colab": {},
    "colab_type": "code",
    "id": "fdfzDdTf1ia4"
   },
   "outputs": [],
   "source": [
    "# Drop columns that will not have an influence on the target variable\n",
    "train_df.drop(columns=['user_id','row_id'], inplace=True)"
   ]
  },
  {
   "cell_type": "code",
   "execution_count": null,
   "metadata": {
    "colab": {},
    "colab_type": "code",
    "id": "k_A8-LfqIk2r"
   },
   "outputs": [],
   "source": [
    "train_df.drop(columns=['grass_date'], inplace=True)"
   ]
  },
  {
   "cell_type": "code",
   "execution_count": null,
   "metadata": {
    "colab": {
     "base_uri": "https://localhost:8080/",
     "height": 663
    },
    "colab_type": "code",
    "id": "s63mUf0ixr8T",
    "outputId": "0c737bdd-d3cb-44c7-d5b8-2567ea9c4015"
   },
   "outputs": [
    {
     "name": "stdout",
     "output_type": "stream",
     "text": [
      "<class 'pandas.core.frame.DataFrame'>\n",
      "Int64Index: 73539 entries, 0 to 73538\n",
      "Data columns (total 31 columns):\n",
      " #   Column                       Non-Null Count  Dtype  \n",
      "---  ------                       --------------  -----  \n",
      " 0   country_code                 73539 non-null  int64  \n",
      " 1   subject_line_length          73539 non-null  int64  \n",
      " 2   last_open_day                73539 non-null  int64  \n",
      " 3   last_login_day               73539 non-null  int64  \n",
      " 4   last_checkout_day            73539 non-null  int64  \n",
      " 5   open_count_last_10_days      73539 non-null  int64  \n",
      " 6   open_count_last_30_days      73539 non-null  int64  \n",
      " 7   open_count_last_60_days      73539 non-null  int64  \n",
      " 8   login_count_last_10_days     73539 non-null  int64  \n",
      " 9   login_count_last_30_days     73539 non-null  int64  \n",
      " 10  login_count_last_60_days     73539 non-null  int64  \n",
      " 11  checkout_count_last_10_days  73539 non-null  int64  \n",
      " 12  checkout_count_last_30_days  73539 non-null  int64  \n",
      " 13  checkout_count_last_60_days  73539 non-null  int64  \n",
      " 14  open_flag                    73539 non-null  int64  \n",
      " 15  attr_1                       73539 non-null  float64\n",
      " 16  attr_2                       73539 non-null  float64\n",
      " 17  attr_3                       73539 non-null  float64\n",
      " 18  age                          73539 non-null  float64\n",
      " 19  day_of_the_week              73539 non-null  int64  \n",
      " 20  domain_@163.com              73539 non-null  uint8  \n",
      " 21  domain_@gmail.com            73539 non-null  uint8  \n",
      " 22  domain_@hotmail.com          73539 non-null  uint8  \n",
      " 23  domain_@icloud.com           73539 non-null  uint8  \n",
      " 24  domain_@live.com             73539 non-null  uint8  \n",
      " 25  domain_@outlook.com          73539 non-null  uint8  \n",
      " 26  domain_@qq.com               73539 non-null  uint8  \n",
      " 27  domain_@rocketmail.com       73539 non-null  uint8  \n",
      " 28  domain_@yahoo.com            73539 non-null  uint8  \n",
      " 29  domain_@ymail.com            73539 non-null  uint8  \n",
      " 30  domain_other                 73539 non-null  uint8  \n",
      "dtypes: float64(4), int64(16), uint8(11)\n",
      "memory usage: 12.6 MB\n"
     ]
    }
   ],
   "source": [
    "train_df.info()"
   ]
  },
  {
   "cell_type": "markdown",
   "metadata": {
    "colab_type": "text",
    "id": "__umvz8Vzrh7"
   },
   "source": [
    "Modelling"
   ]
  },
  {
   "cell_type": "code",
   "execution_count": null,
   "metadata": {
    "colab": {},
    "colab_type": "code",
    "id": "j-tOZVBmmlz4"
   },
   "outputs": [],
   "source": [
    "def matthewscorrcoef3(estimator, X_val, y_val):\n",
    "  return matthews_corrcoef(y_val, estimator.predict(X_val))"
   ]
  },
  {
   "cell_type": "code",
   "execution_count": null,
   "metadata": {
    "colab": {},
    "colab_type": "code",
    "id": "0PvT8pw8ynFl"
   },
   "outputs": [],
   "source": [
    "# # All features\n",
    "# X = train_df[[col for col in train_df.columns if col!='open_flag']]\n",
    "# y = train_df['open_flag']"
   ]
  },
  {
   "cell_type": "code",
   "execution_count": null,
   "metadata": {
    "colab": {},
    "colab_type": "code",
    "id": "hHiM4BaOLG6N"
   },
   "outputs": [],
   "source": [
    "# Let's just try top 5 features of importance\n",
    "features = ['open_count_last_10_days', 'open_count_last_30_days', 'open_count_last_60_days', 'country_code', 'last_open_day', 'day_of_the_week']\n",
    "\n",
    "X = train_df[features]\n",
    "y = train_df['open_flag']"
   ]
  },
  {
   "cell_type": "code",
   "execution_count": null,
   "metadata": {
    "colab": {},
    "colab_type": "code",
    "id": "yv2QrPPaMik2"
   },
   "outputs": [],
   "source": [
    "poly = PolynomialFeatures(include_bias=False)"
   ]
  },
  {
   "cell_type": "code",
   "execution_count": null,
   "metadata": {
    "colab": {},
    "colab_type": "code",
    "id": "L7mg8hcoM3gw"
   },
   "outputs": [],
   "source": [
    "X_poly = poly.fit_transform(X)"
   ]
  },
  {
   "cell_type": "code",
   "execution_count": null,
   "metadata": {
    "colab": {
     "base_uri": "https://localhost:8080/",
     "height": 493
    },
    "colab_type": "code",
    "id": "ICJkxFfhM79M",
    "outputId": "6dfc82bd-2ea9-4be9-952d-5036538efc42"
   },
   "outputs": [
    {
     "data": {
      "text/plain": [
       "open_count_last_10_days                            0.517244\n",
       "open_count_last_30_days                            0.510572\n",
       "open_count_last_30_days country_code               0.489104\n",
       "open_count_last_10_days country_code               0.485094\n",
       "open_count_last_60_days                            0.479796\n",
       "open_count_last_60_days country_code               0.461729\n",
       "open_count_last_10_days open_count_last_30_days    0.445020\n",
       "open_count_last_10_days open_count_last_60_days    0.435659\n",
       "open_count_last_30_days^2                          0.435564\n",
       "open_count_last_10_days^2                          0.434396\n",
       "open_count_last_30_days open_count_last_60_days    0.426222\n",
       "open_count_last_60_days^2                          0.403614\n",
       "open_count_last_10_days day_of_the_week            0.394807\n",
       "open_count_last_30_days day_of_the_week            0.386272\n",
       "open_count_last_60_days day_of_the_week            0.362124\n",
       "country_code                                       0.158945\n",
       "country_code^2                                     0.136407\n",
       "country_code day_of_the_week                       0.101016\n",
       "open_count_last_30_days last_open_day              0.061978\n",
       "open_count_last_10_days last_open_day              0.061343\n",
       "open_count_last_60_days last_open_day              0.055557\n",
       "day_of_the_week                                   -0.003278\n",
       "day_of_the_week^2                                 -0.005655\n",
       "country_code last_open_day                        -0.078046\n",
       "last_open_day^2                                   -0.091835\n",
       "last_open_day day_of_the_week                     -0.093145\n",
       "last_open_day                                     -0.116285\n",
       "dtype: float64"
      ]
     },
     "execution_count": 285,
     "metadata": {
      "tags": []
     },
     "output_type": "execute_result"
    }
   ],
   "source": [
    "#open_count_last_30_days * country_code looks promising\n",
    "X_poly_df = pd.DataFrame(X_poly, columns=poly.get_feature_names(features))\n",
    "X_poly_df.corrwith(y).sort_values(ascending=False)"
   ]
  },
  {
   "cell_type": "code",
   "execution_count": null,
   "metadata": {
    "colab": {},
    "colab_type": "code",
    "id": "1VZIaiJMNyPp"
   },
   "outputs": [],
   "source": [
    "# Create interaction term\n",
    "train_df['open_count_last_30_days_country_code'] = train_df['open_count_last_30_days'] * train_df['country_code']"
   ]
  },
  {
   "cell_type": "code",
   "execution_count": null,
   "metadata": {
    "colab": {},
    "colab_type": "code",
    "id": "FogRHQ7hOhVf"
   },
   "outputs": [],
   "source": [
    "# Add on interaction term as features\n",
    "features = ['open_count_last_10_days', 'open_count_last_30_days', 'open_count_last_60_days', 'country_code', 'last_open_day', 'day_of_the_week', 'open_count_last_30_days_country_code']\n",
    "\n",
    "X = train_df[features]\n",
    "y = train_df['open_flag']"
   ]
  },
  {
   "cell_type": "code",
   "execution_count": null,
   "metadata": {
    "colab": {},
    "colab_type": "code",
    "id": "nUe5ubdD2RNZ"
   },
   "outputs": [],
   "source": [
    "# Create a train and validation set\n",
    "X_train, X_val, y_train, y_val = train_test_split(X, y, test_size=0.1, random_state=42, stratify=y)"
   ]
  },
  {
   "cell_type": "code",
   "execution_count": null,
   "metadata": {
    "colab": {
     "base_uri": "https://localhost:8080/",
     "height": 34
    },
    "colab_type": "code",
    "id": "UNgDde1a2iqf",
    "outputId": "15b127d0-b642-44af-edaa-2be88c6fcf83"
   },
   "outputs": [
    {
     "data": {
      "text/plain": [
       "(66185, 7)"
      ]
     },
     "execution_count": 289,
     "metadata": {
      "tags": []
     },
     "output_type": "execute_result"
    }
   ],
   "source": [
    "X_train.shape"
   ]
  },
  {
   "cell_type": "code",
   "execution_count": null,
   "metadata": {
    "colab": {
     "base_uri": "https://localhost:8080/",
     "height": 34
    },
    "colab_type": "code",
    "id": "iyQi68Rv2j3r",
    "outputId": "20d23cf7-3f7b-43b3-d5e3-4a482f4d25bf"
   },
   "outputs": [
    {
     "data": {
      "text/plain": [
       "(66185,)"
      ]
     },
     "execution_count": 290,
     "metadata": {
      "tags": []
     },
     "output_type": "execute_result"
    }
   ],
   "source": [
    "y_train.shape"
   ]
  },
  {
   "cell_type": "code",
   "execution_count": null,
   "metadata": {
    "colab": {
     "base_uri": "https://localhost:8080/",
     "height": 34
    },
    "colab_type": "code",
    "id": "A2fn35qH2oko",
    "outputId": "776e177f-113a-451d-9f00-af46c09c4c94"
   },
   "outputs": [
    {
     "data": {
      "text/plain": [
       "(7354, 7)"
      ]
     },
     "execution_count": 291,
     "metadata": {
      "tags": []
     },
     "output_type": "execute_result"
    }
   ],
   "source": [
    "X_val.shape"
   ]
  },
  {
   "cell_type": "code",
   "execution_count": null,
   "metadata": {
    "colab": {
     "base_uri": "https://localhost:8080/",
     "height": 34
    },
    "colab_type": "code",
    "id": "nupjE2hL2qOY",
    "outputId": "311b6d0e-0b42-4998-af5d-49588217fa39"
   },
   "outputs": [
    {
     "data": {
      "text/plain": [
       "(7354,)"
      ]
     },
     "execution_count": 292,
     "metadata": {
      "tags": []
     },
     "output_type": "execute_result"
    }
   ],
   "source": [
    "y_val.shape"
   ]
  },
  {
   "cell_type": "code",
   "execution_count": null,
   "metadata": {
    "colab": {
     "base_uri": "https://localhost:8080/",
     "height": 68
    },
    "colab_type": "code",
    "id": "4MhoqX3x2r-8",
    "outputId": "bec4223b-5d08-4c8c-846e-ff1155eb3a7c"
   },
   "outputs": [
    {
     "data": {
      "text/plain": [
       "0    0.844225\n",
       "1    0.155775\n",
       "Name: open_flag, dtype: float64"
      ]
     },
     "execution_count": 293,
     "metadata": {
      "tags": []
     },
     "output_type": "execute_result"
    }
   ],
   "source": [
    "y_train.value_counts(normalize=True)"
   ]
  },
  {
   "cell_type": "code",
   "execution_count": null,
   "metadata": {
    "colab": {
     "base_uri": "https://localhost:8080/",
     "height": 68
    },
    "colab_type": "code",
    "id": "ZcD5x-V62t-J",
    "outputId": "afa03b70-be2a-4937-b291-bffc8a91e3bd"
   },
   "outputs": [
    {
     "data": {
      "text/plain": [
       "0    0.844166\n",
       "1    0.155834\n",
       "Name: open_flag, dtype: float64"
      ]
     },
     "execution_count": 294,
     "metadata": {
      "tags": []
     },
     "output_type": "execute_result"
    }
   ],
   "source": [
    "y_val.value_counts(normalize=True)"
   ]
  },
  {
   "cell_type": "markdown",
   "metadata": {
    "colab_type": "text",
    "id": "Nqrs9nI14VVi"
   },
   "source": [
    "Submissions are evaluated on the Matthews correlation coefficient (MCC) between the predicted and the observed response. "
   ]
  },
  {
   "cell_type": "code",
   "execution_count": null,
   "metadata": {
    "colab": {
     "base_uri": "https://localhost:8080/",
     "height": 309
    },
    "colab_type": "code",
    "id": "IKiltu-M2wwr",
    "outputId": "04ec902b-8c0b-414d-9e71-cde9cdcc67f4"
   },
   "outputs": [
    {
     "name": "stderr",
     "output_type": "stream",
     "text": [
      "/usr/local/lib/python3.6/dist-packages/sklearn/utils/deprecation.py:87: FutureWarning: Function safe_indexing is deprecated; safe_indexing is deprecated in version 0.22 and will be removed in version 0.24.\n",
      "  warnings.warn(msg, category=FutureWarning)\n",
      "/usr/local/lib/python3.6/dist-packages/sklearn/utils/deprecation.py:87: FutureWarning: Function safe_indexing is deprecated; safe_indexing is deprecated in version 0.22 and will be removed in version 0.24.\n",
      "  warnings.warn(msg, category=FutureWarning)\n",
      "/usr/local/lib/python3.6/dist-packages/sklearn/utils/deprecation.py:87: FutureWarning: Function safe_indexing is deprecated; safe_indexing is deprecated in version 0.22 and will be removed in version 0.24.\n",
      "  warnings.warn(msg, category=FutureWarning)\n",
      "/usr/local/lib/python3.6/dist-packages/sklearn/utils/deprecation.py:87: FutureWarning: Function safe_indexing is deprecated; safe_indexing is deprecated in version 0.22 and will be removed in version 0.24.\n",
      "  warnings.warn(msg, category=FutureWarning)\n",
      "/usr/local/lib/python3.6/dist-packages/sklearn/utils/deprecation.py:87: FutureWarning: Function safe_indexing is deprecated; safe_indexing is deprecated in version 0.22 and will be removed in version 0.24.\n",
      "  warnings.warn(msg, category=FutureWarning)\n",
      "/usr/local/lib/python3.6/dist-packages/sklearn/utils/deprecation.py:87: FutureWarning: Function safe_indexing is deprecated; safe_indexing is deprecated in version 0.22 and will be removed in version 0.24.\n",
      "  warnings.warn(msg, category=FutureWarning)\n"
     ]
    },
    {
     "name": "stdout",
     "output_type": "stream",
     "text": [
      "Best parameters:  {'logisticregression__C': 0.001, 'logisticregression__max_iter': 1000, 'logisticregression__penalty': 'l2'}\n",
      "Best CV MCC score:  0.46367164361016544\n",
      "Training MCC score: 0.46609803584920667\n",
      "Validation MCC score: 0.46745110375813487\n"
     ]
    }
   ],
   "source": [
    "# Logistic Regression\n",
    "\n",
    "# Create a pipeline\n",
    "pipe_lr = make_pipeline(SMOTE(random_state=42),\n",
    "                        StandardScaler(), # Scale features\n",
    "                        LogisticRegression(random_state=42, tol=1000))\n",
    "\n",
    "# Search over the following values of hyperparameters:\n",
    "pipe_lr_params = {\n",
    "    'logisticregression__penalty' : ['l2'], # L2 regularization will be better at managing multicollinearity\n",
    "    'logisticregression__C' : [.001], # Regularization\n",
    "    'logisticregression__max_iter' : [1000] \n",
    "}\n",
    "\n",
    "# Instantiate GridSearchCV\n",
    "gs_lr = GridSearchCV(pipe_lr,\n",
    "                     param_grid=pipe_lr_params,\n",
    "                     cv=5,\n",
    "                     scoring=matthewscorrcoef3)\n",
    "\n",
    "# Fit model on training data\n",
    "gs_lr.fit(X_train, y_train)\n",
    "\n",
    "# Generate predictions on validation set\n",
    "lr_pred = gs_lr.predict(X_val)\n",
    "\n",
    "# Print best parameters and MCC scores\n",
    "print('Best parameters: ', gs_lr.best_params_)\n",
    "print('Best CV MCC score: ', gs_lr.best_score_)\n",
    "print('Training MCC score:', gs_lr.score(X_train, y_train))\n",
    "print('Validation MCC score:', gs_lr.score(X_val, y_val))"
   ]
  },
  {
   "cell_type": "code",
   "execution_count": null,
   "metadata": {
    "colab": {
     "base_uri": "https://localhost:8080/",
     "height": 68
    },
    "colab_type": "code",
    "id": "Hz7nrXiX4pis",
    "outputId": "0cd32ece-999e-44ce-ec24-90ae3ad9ece1"
   },
   "outputs": [
    {
     "data": {
      "text/plain": [
       "0    55875\n",
       "1    10310\n",
       "Name: open_flag, dtype: int64"
      ]
     },
     "execution_count": 197,
     "metadata": {
      "tags": []
     },
     "output_type": "execute_result"
    }
   ],
   "source": [
    "y_train.value_counts()"
   ]
  },
  {
   "cell_type": "code",
   "execution_count": null,
   "metadata": {
    "colab": {
     "base_uri": "https://localhost:8080/",
     "height": 105
    },
    "colab_type": "code",
    "id": "G5A2nALG3W_l",
    "outputId": "a802b6de-f7fd-4ba0-bb23-3eb8fcbba56c"
   },
   "outputs": [
    {
     "name": "stdout",
     "output_type": "stream",
     "text": [
      "Best parameters:  {'xgbclassifier__colsample_bytree': 0.5, 'xgbclassifier__eval_metric': 'auc', 'xgbclassifier__gamma': 0.1, 'xgbclassifier__learning_rate': 0.1, 'xgbclassifier__max_depth': 5, 'xgbclassifier__n_estimators': 100, 'xgbclassifier__objective': 'binary:logistic', 'xgbclassifier__reg_alpha': 100, 'xgbclassifier__reg_lambda': 100, 'xgbclassifier__scale_pos_weight': 5.419495635305529, 'xgbclassifier__subsample': 0.5}\n",
      "Best CV MCC score:  0.4764949419393415\n",
      "Training MCC score: 0.47935836629375855\n",
      "Validation MCC score: 0.49638469187924433\n"
     ]
    }
   ],
   "source": [
    "# XGBoost\n",
    "\n",
    "# Create a pipeline\n",
    "pipe_xgb = make_pipeline(XGBClassifier(random_state=42))\n",
    "\n",
    "# Search over the following values of hyperparameters:\n",
    "pipe_xgb_params = {\n",
    "    'xgbclassifier__eval_metric' : ['auc'],\n",
    "    'xgbclassifier__subsample' : [0.5], # Randomly sample 0.5 of the data to prevent overfitting\n",
    "    'xgbclassifier__colsample_bytree' : [0.5], \n",
    "    'xgbclassifier__learning_rate' : [0.1], \n",
    "    'xgbclassifier__max_depth' : [5], #2, 3\n",
    "    'xgbclassifier__scale_pos_weight': [55875/10310], # Ratio of negative class to positive class\n",
    "    'xgbclassifier__n_estimators' : [100], #500\n",
    "    'xgbclassifier__reg_alpha' : [100], # L1 regularization term on weight #0, 1, 50, 75\n",
    "    'xgbclassifier__reg_lambda' : [100], # L2 regularization term on weights #0, 1, 2, 50,75\n",
    "    'xgbclassifier__gamma' : [0.1], # Gamma specifies the minimum loss reduction required to make a split #.2\n",
    "    'xgbclassifier__objective' : ['binary:logistic']\n",
    "}\n",
    "\n",
    "# Instantiate GridSearchCV\n",
    "gs_xgb = GridSearchCV(pipe_xgb,\n",
    "                      param_grid=pipe_xgb_params,\n",
    "                      cv=5,\n",
    "                      scoring=matthewscorrcoef3)\n",
    "\n",
    "# Fit model on training data\n",
    "gs_xgb.fit(X_train, y_train)\n",
    "\n",
    "# Generate predictions on validation set\n",
    "xgb_pred = gs_xgb.predict(X_val)\n",
    "\n",
    "# Print best parameters and MCC scores\n",
    "print('Best parameters: ', gs_xgb.best_params_)\n",
    "print('Best CV MCC score: ', gs_xgb.best_score_)\n",
    "print('Training MCC score:', gs_xgb.score(X_train, y_train))\n",
    "print('Validation MCC score:', gs_xgb.score(X_val, y_val))"
   ]
  },
  {
   "cell_type": "code",
   "execution_count": null,
   "metadata": {
    "colab": {},
    "colab_type": "code",
    "id": "uT7tyU5QFVoe"
   },
   "outputs": [],
   "source": [
    "# Feature importance for XGBoost\n",
    "feature_importance = gs_xgb.best_estimator_.named_steps['xgbclassifier'].feature_importances_\n",
    "\n",
    "# Save feature importance to a dataframe\n",
    "features_df = pd.DataFrame(index=X_train.columns, data=feature_importance, columns=['feature_importance'])"
   ]
  },
  {
   "cell_type": "code",
   "execution_count": null,
   "metadata": {
    "colab": {
     "base_uri": "https://localhost:8080/",
     "height": 482
    },
    "colab_type": "code",
    "id": "ZyFTXTagGBVE",
    "outputId": "531350e0-1567-4ebb-991c-4f9df7b9a591"
   },
   "outputs": [
    {
     "data": {
      "image/png": "[encoded data removed]",
      "text/plain": [
       "<Figure size 720x720 with 1 Axes>"
      ]
     },
     "metadata": {
      "needs_background": "light",
      "tags": []
     },
     "output_type": "display_data"
    }
   ],
   "source": [
    "# Plot the feature importance\n",
    "features_df.sort_values(by='feature_importance').plot(kind='barh', figsize=(10,10));"
   ]
  },
  {
   "cell_type": "markdown",
   "metadata": {
    "colab_type": "text",
    "id": "bdLRO3rD5kNJ"
   },
   "source": [
    "Scoring on Kaggle"
   ]
  },
  {
   "cell_type": "code",
   "execution_count": null,
   "metadata": {
    "colab": {
     "base_uri": "https://localhost:8080/",
     "height": 238
    },
    "colab_type": "code",
    "id": "t_DTK3cS5m1H",
    "outputId": "2bf5ebb8-ccf2-461a-86bc-d56e520ced3c"
   },
   "outputs": [
    {
     "data": {
      "text/plain": [
       "Index(['country_code', 'subject_line_length', 'last_open_day',\n",
       "       'last_login_day', 'last_checkout_day', 'open_count_last_10_days',\n",
       "       'open_count_last_30_days', 'open_count_last_60_days',\n",
       "       'login_count_last_10_days', 'login_count_last_30_days',\n",
       "       'login_count_last_60_days', 'checkout_count_last_10_days',\n",
       "       'checkout_count_last_30_days', 'checkout_count_last_60_days',\n",
       "       'open_flag', 'attr_1', 'attr_2', 'attr_3', 'age', 'year', 'month_sin',\n",
       "       'month_cos', 'day_sin', 'day_cos', 'domain_@163.com',\n",
       "       'domain_@gmail.com', 'domain_@hotmail.com', 'domain_@icloud.com',\n",
       "       'domain_@live.com', 'domain_@outlook.com', 'domain_@qq.com',\n",
       "       'domain_@rocketmail.com', 'domain_@yahoo.com', 'domain_@ymail.com',\n",
       "       'domain_other'],\n",
       "      dtype='object')"
      ]
     },
     "execution_count": 59,
     "metadata": {
      "tags": []
     },
     "output_type": "execute_result"
    }
   ],
   "source": [
    "train_df.columns"
   ]
  },
  {
   "cell_type": "code",
   "execution_count": null,
   "metadata": {
    "colab": {
     "base_uri": "https://localhost:8080/",
     "height": 68
    },
    "colab_type": "code",
    "id": "5R3_1hZmyyQ1",
    "outputId": "0523dc2f-8b6b-4c5d-a0c9-a199d3b50837"
   },
   "outputs": [
    {
     "name": "stdout",
     "output_type": "stream",
     "text": [
      "Change 23 Rows from open_count_last_10_days\n",
      "Change 72 Rows from open_count_last_30_days\n",
      "Change 96 Rows from open_count_last_60_days\n"
     ]
    }
   ],
   "source": [
    "cuurent_cols = [ 'open_count_last_10_days', 'open_count_last_30_days', 'open_count_last_60_days']\n",
    "current_threshold = [12, 30, 56]\n",
    "\n",
    "for col, val in zip(cuurent_cols, current_threshold):\n",
    "    print(\"Change\", (test_df[col] > val).sum(), \"Rows from\", col)\n",
    "    test_df.loc[test_df[col] > val, col] = val"
   ]
  },
  {
   "cell_type": "code",
   "execution_count": null,
   "metadata": {
    "colab": {},
    "colab_type": "code",
    "id": "XleX0fpm5p3H"
   },
   "outputs": [],
   "source": [
    "# Replace \"Never open\" with a very high number, like 1000\n",
    "test_df['last_open_day'] = test_df['last_open_day'].map(lambda x: 1000 if x=='Never open' else x).astype(int)\n",
    "\n",
    "# Replace \"Never login\" with a very high number, like 20,000\n",
    "test_df['last_login_day'] = test_df['last_login_day'].map(lambda x: 20000 if x=='Never login' else x).astype(int)\n",
    "\n",
    "# Replace \"Never login\" with a very high number, like 2000\n",
    "test_df['last_checkout_day'] = test_df['last_checkout_day'].map(lambda x: 20000 if x=='Never checkout' else x).astype(int)"
   ]
  },
  {
   "cell_type": "code",
   "execution_count": null,
   "metadata": {
    "colab": {},
    "colab_type": "code",
    "id": "RaR4Znhr6N1e"
   },
   "outputs": [],
   "source": [
    "# Fill NA with 0\n",
    "test_df['attr_1'].fillna(1, inplace=True)\n",
    "test_df['attr_2'].fillna(1, inplace=True)"
   ]
  },
  {
   "cell_type": "code",
   "execution_count": null,
   "metadata": {
    "colab": {},
    "colab_type": "code",
    "id": "AnYTRlI-6VQL"
   },
   "outputs": [],
   "source": [
    "# Let's fill NA with median age from training data\n",
    "test_df['age'].fillna(train_df['age'].median(), inplace=True)"
   ]
  },
  {
   "cell_type": "code",
   "execution_count": null,
   "metadata": {
    "colab": {},
    "colab_type": "code",
    "id": "hFC5OeED6lUX"
   },
   "outputs": [],
   "source": [
    "#training set\n",
    "test_df['year'] = test_df['grass_date'].map(lambda x: x.year)\n",
    "test_df['month'] = test_df['grass_date'].map(lambda x: x.month)\n",
    "test_df['day'] = test_df['grass_date'].map(lambda x: x.day)\n",
    "\n",
    "#cyclical features for month\n",
    "test_df['month_sin'] = np.sin(test_df['month']*(2.*np.pi/12))\n",
    "test_df['month_cos'] = np.cos(test_df['month']*(2.*np.pi/12))\n",
    "\n",
    "#cyclical features for day\n",
    "#assumption that every month has 31 days\n",
    "test_df['day_sin'] = np.sin(test_df['day']*(2.*np.pi/31))\n",
    "test_df['day_cos'] = np.cos(test_df['day']*(2.*np.pi/31))\n",
    "\n",
    "#dropping grass_date, month, day\n",
    "test_df.drop(['grass_date', 'month', 'day'],axis=1, inplace=True)"
   ]
  },
  {
   "cell_type": "code",
   "execution_count": null,
   "metadata": {
    "colab": {},
    "colab_type": "code",
    "id": "JhL9_CP66v9X"
   },
   "outputs": [],
   "source": [
    "# One-hot encode categorical variables\n",
    "test_df = pd.get_dummies(test_df, columns=['domain'])"
   ]
  },
  {
   "cell_type": "code",
   "execution_count": null,
   "metadata": {
    "colab": {},
    "colab_type": "code",
    "id": "slY-qjd261ne"
   },
   "outputs": [],
   "source": [
    "# Drop columns that will not have an influence on the target variable\n",
    "test_df.drop(columns=['user_id','row_id'], inplace=True)"
   ]
  },
  {
   "cell_type": "code",
   "execution_count": null,
   "metadata": {
    "colab": {
     "base_uri": "https://localhost:8080/",
     "height": 714
    },
    "colab_type": "code",
    "id": "Y881Y1tG64A9",
    "outputId": "ffbd8f14-852b-4708-fed1-e50b9012ad79"
   },
   "outputs": [
    {
     "name": "stdout",
     "output_type": "stream",
     "text": [
      "<class 'pandas.core.frame.DataFrame'>\n",
      "Int64Index: 55970 entries, 0 to 55969\n",
      "Data columns (total 34 columns):\n",
      " #   Column                       Non-Null Count  Dtype  \n",
      "---  ------                       --------------  -----  \n",
      " 0   country_code                 55970 non-null  int64  \n",
      " 1   subject_line_length          55970 non-null  int64  \n",
      " 2   last_open_day                55970 non-null  int64  \n",
      " 3   last_login_day               55970 non-null  int64  \n",
      " 4   last_checkout_day            55970 non-null  int64  \n",
      " 5   open_count_last_10_days      55970 non-null  int64  \n",
      " 6   open_count_last_30_days      55970 non-null  int64  \n",
      " 7   open_count_last_60_days      55970 non-null  int64  \n",
      " 8   login_count_last_10_days     55970 non-null  int64  \n",
      " 9   login_count_last_30_days     55970 non-null  int64  \n",
      " 10  login_count_last_60_days     55970 non-null  int64  \n",
      " 11  checkout_count_last_10_days  55970 non-null  int64  \n",
      " 12  checkout_count_last_30_days  55970 non-null  int64  \n",
      " 13  checkout_count_last_60_days  55970 non-null  int64  \n",
      " 14  attr_1                       55970 non-null  float64\n",
      " 15  attr_2                       55970 non-null  float64\n",
      " 16  attr_3                       55970 non-null  float64\n",
      " 17  age                          55970 non-null  float64\n",
      " 18  year                         55970 non-null  int64  \n",
      " 19  month_sin                    55970 non-null  float64\n",
      " 20  month_cos                    55970 non-null  float64\n",
      " 21  day_sin                      55970 non-null  float64\n",
      " 22  day_cos                      55970 non-null  float64\n",
      " 23  domain_@163.com              55970 non-null  uint8  \n",
      " 24  domain_@gmail.com            55970 non-null  uint8  \n",
      " 25  domain_@hotmail.com          55970 non-null  uint8  \n",
      " 26  domain_@icloud.com           55970 non-null  uint8  \n",
      " 27  domain_@live.com             55970 non-null  uint8  \n",
      " 28  domain_@outlook.com          55970 non-null  uint8  \n",
      " 29  domain_@qq.com               55970 non-null  uint8  \n",
      " 30  domain_@rocketmail.com       55970 non-null  uint8  \n",
      " 31  domain_@yahoo.com            55970 non-null  uint8  \n",
      " 32  domain_@ymail.com            55970 non-null  uint8  \n",
      " 33  domain_other                 55970 non-null  uint8  \n",
      "dtypes: float64(8), int64(15), uint8(11)\n",
      "memory usage: 10.8 MB\n"
     ]
    }
   ],
   "source": [
    "test_df.info()"
   ]
  },
  {
   "cell_type": "markdown",
   "metadata": {
    "colab_type": "text",
    "id": "Gvs4m3ThipLi"
   },
   "source": [
    "## Best model prediction"
   ]
  },
  {
   "cell_type": "code",
   "execution_count": null,
   "metadata": {
    "colab": {
     "base_uri": "https://localhost:8080/",
     "height": 68
    },
    "colab_type": "code",
    "id": "6A80pVXsBiRI",
    "outputId": "1c0df89f-c8ef-45fd-ada9-a386c967339a"
   },
   "outputs": [
    {
     "data": {
      "text/plain": [
       "0    62083\n",
       "1    11456\n",
       "Name: open_flag, dtype: int64"
      ]
     },
     "execution_count": 82,
     "metadata": {
      "tags": []
     },
     "output_type": "execute_result"
    }
   ],
   "source": [
    "y.value_counts()"
   ]
  },
  {
   "cell_type": "code",
   "execution_count": null,
   "metadata": {
    "colab": {
     "base_uri": "https://localhost:8080/",
     "height": 71
    },
    "colab_type": "code",
    "id": "cEiu8Sm0ioWK",
    "outputId": "dd906043-c76c-4ea7-a78f-e477846508fe"
   },
   "outputs": [
    {
     "name": "stdout",
     "output_type": "stream",
     "text": [
      "Best parameters:  {'xgbclassifier__colsample_bytree': 0.5, 'xgbclassifier__eval_metric': 'auc', 'xgbclassifier__gamma': 0.1, 'xgbclassifier__learning_rate': 0.1, 'xgbclassifier__max_depth': 3, 'xgbclassifier__n_estimators': 100, 'xgbclassifier__objective': 'binary:logistic', 'xgbclassifier__reg_alpha': 100, 'xgbclassifier__reg_lambda': 100, 'xgbclassifier__scale_pos_weight': 5.419256284916201, 'xgbclassifier__subsample': 0.5}\n",
      "Best CV MCC score:  0.4103231219460741\n"
     ]
    }
   ],
   "source": [
    "# XGBoost\n",
    "\n",
    "# Create a pipeline\n",
    "pipe_xgb = make_pipeline(XGBClassifier(random_state=42))\n",
    "\n",
    "# Search over the following values of hyperparameters:\n",
    "pipe_xgb_params = {\n",
    "    'xgbclassifier__eval_metric' : ['auc'],\n",
    "    'xgbclassifier__subsample' : [0.5], # Randomly sample 0.5 of the data to prevent overfitting\n",
    "    'xgbclassifier__colsample_bytree' : [0.5], \n",
    "    'xgbclassifier__learning_rate' : [0.1], \n",
    "    'xgbclassifier__max_depth' : [5], #2, 3\n",
    "    'xgbclassifier__scale_pos_weight': [62083/11456], # Ratio of negative class to positive class\n",
    "    'xgbclassifier__n_estimators' : [100], #500\n",
    "    'xgbclassifier__reg_alpha' : [100], # L1 regularization term on weight #0, 1, 50, 75\n",
    "    'xgbclassifier__reg_lambda' : [100], # L2 regularization term on weights #0, 1, 2, 50,75\n",
    "    'xgbclassifier__gamma' : [0.1], # Gamma specifies the minimum loss reduction required to make a split #.2\n",
    "    'xgbclassifier__objective' : ['binary:logistic']\n",
    "}\n",
    "\n",
    "# Instantiate GridSearchCV\n",
    "gs_xgb = GridSearchCV(pipe_xgb,\n",
    "                      param_grid=pipe_xgb_params,\n",
    "                      cv=5,\n",
    "                      scoring=matthewscorrcoef3)\n",
    "\n",
    "# Fit model on full training data\n",
    "gs_xgb.fit(X, y)\n",
    "\n",
    "# Print best parameters and MCC scores\n",
    "print('Best parameters: ', gs_xgb.best_params_)\n",
    "print('Best CV MCC score: ', gs_xgb.best_score_)"
   ]
  },
  {
   "cell_type": "code",
   "execution_count": null,
   "metadata": {
    "colab": {},
    "colab_type": "code",
    "id": "a4qGRsGeAUmH"
   },
   "outputs": [],
   "source": [
    "# Generate predictions on test set\n",
    "xgb_pred = gs_xgb.predict(test_df)"
   ]
  },
  {
   "cell_type": "code",
   "execution_count": null,
   "metadata": {
    "colab": {},
    "colab_type": "code",
    "id": "BE4siAcj8QTy"
   },
   "outputs": [],
   "source": [
    "# Create dataframe for predictions\n",
    "result = pd.DataFrame(test['row_id'])"
   ]
  },
  {
   "cell_type": "code",
   "execution_count": null,
   "metadata": {
    "colab": {},
    "colab_type": "code",
    "id": "6vxCOf6m8WMq"
   },
   "outputs": [],
   "source": [
    "# Save predictions to dataframe\n",
    "result['open_flag'] = xgb_pred"
   ]
  },
  {
   "cell_type": "code",
   "execution_count": null,
   "metadata": {
    "colab": {
     "base_uri": "https://localhost:8080/",
     "height": 204
    },
    "colab_type": "code",
    "id": "NaUHR4hT8q3D",
    "outputId": "87ebf446-5fcc-4522-a601-aa1d34692cf3"
   },
   "outputs": [
    {
     "data": {
      "text/html": [
       "<div>\n",
       "<style scoped>\n",
       "    .dataframe tbody tr th:only-of-type {\n",
       "        vertical-align: middle;\n",
       "    }\n",
       "\n",
       "    .dataframe tbody tr th {\n",
       "        vertical-align: top;\n",
       "    }\n",
       "\n",
       "    .dataframe thead th {\n",
       "        text-align: right;\n",
       "    }\n",
       "</style>\n",
       "<table border=\"1\" class=\"dataframe\">\n",
       "  <thead>\n",
       "    <tr style=\"text-align: right;\">\n",
       "      <th></th>\n",
       "      <th>row_id</th>\n",
       "      <th>open_flag</th>\n",
       "    </tr>\n",
       "  </thead>\n",
       "  <tbody>\n",
       "    <tr>\n",
       "      <th>0</th>\n",
       "      <td>0</td>\n",
       "      <td>1</td>\n",
       "    </tr>\n",
       "    <tr>\n",
       "      <th>1</th>\n",
       "      <td>1</td>\n",
       "      <td>0</td>\n",
       "    </tr>\n",
       "    <tr>\n",
       "      <th>2</th>\n",
       "      <td>2</td>\n",
       "      <td>0</td>\n",
       "    </tr>\n",
       "    <tr>\n",
       "      <th>3</th>\n",
       "      <td>3</td>\n",
       "      <td>0</td>\n",
       "    </tr>\n",
       "    <tr>\n",
       "      <th>4</th>\n",
       "      <td>4</td>\n",
       "      <td>0</td>\n",
       "    </tr>\n",
       "  </tbody>\n",
       "</table>\n",
       "</div>"
      ],
      "text/plain": [
       "   row_id  open_flag\n",
       "0       0          1\n",
       "1       1          0\n",
       "2       2          0\n",
       "3       3          0\n",
       "4       4          0"
      ]
     },
     "execution_count": 90,
     "metadata": {
      "tags": []
     },
     "output_type": "execute_result"
    }
   ],
   "source": [
    "# Check first 5 rows of data\n",
    "result.head()"
   ]
  },
  {
   "cell_type": "code",
   "execution_count": null,
   "metadata": {
    "colab": {
     "base_uri": "https://localhost:8080/",
     "height": 68
    },
    "colab_type": "code",
    "id": "uGDDiEtA8rlE",
    "outputId": "50002f40-4685-4cde-814d-7218b80d8b8c"
   },
   "outputs": [
    {
     "data": {
      "text/plain": [
       "0    0.768537\n",
       "1    0.231463\n",
       "Name: open_flag, dtype: float64"
      ]
     },
     "execution_count": 91,
     "metadata": {
      "tags": []
     },
     "output_type": "execute_result"
    }
   ],
   "source": [
    "# Sense check\n",
    "result['open_flag'].value_counts(normalize=True)"
   ]
  },
  {
   "cell_type": "code",
   "execution_count": null,
   "metadata": {
    "colab": {},
    "colab_type": "code",
    "id": "JhPAeN0r8wRE"
   },
   "outputs": [],
   "source": [
    "# Save predictions to csv\n",
    "result.to_csv('/content/gdrive/My Drive/Marketing Analytics/result_xgb_4.csv', index=False)"
   ]
  },
  {
   "cell_type": "code",
   "execution_count": null,
   "metadata": {
    "colab": {},
    "colab_type": "code",
    "id": "73DbG0IX9R2g"
   },
   "outputs": [],
   "source": []
  }
 ],
 "metadata": {
  "colab": {
   "collapsed_sections": [],
   "name": "Marketing_Analytics.ipynb",
   "provenance": []
  },
  "kernelspec": {
   "display_name": "Python 3",
   "language": "python",
   "name": "python3"
  },
  "language_info": {
   "codemirror_mode": {
    "name": "ipython",
    "version": 3
   },
   "file_extension": ".py",
   "mimetype": "text/x-python",
   "name": "python",
   "nbconvert_exporter": "python",
   "pygments_lexer": "ipython3",
   "version": "3.7.7"
  }
 },
 "nbformat": 4,
 "nbformat_minor": 1
}
